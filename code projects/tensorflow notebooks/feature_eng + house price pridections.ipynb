{
  "nbformat": 4,
  "nbformat_minor": 0,
  "metadata": {
    "kernelspec": {
      "name": "python3",
      "display_name": "Python 3"
    },
    "language_info": {
      "codemirror_mode": {
        "name": "ipython",
        "version": 3
      },
      "file_extension": ".py",
      "mimetype": "text/x-python",
      "name": "python",
      "nbconvert_exporter": "python",
      "pygments_lexer": "ipython3",
      "version": "3.5.2"
    },
    "colab": {
      "name": "CS152Sp19Assign3 Mohamed E",
      "provenance": [],
      "collapsed_sections": [
        "UFRrDcaCj8mu",
        "cYpcUcm0lHgG",
        "CuaCtro07wYu"
      ]
    },
    "accelerator": "GPU"
  },
  "cells": [
    {
      "cell_type": "markdown",
      "metadata": {
        "id": "elVj0Nn1mgBD"
      },
      "source": [
        "# Assignment 3\n",
        "\n",
        "This assignment is to predict housing prices. We're using a dataset from Ames, Iowa ([paper](http://jse.amstat.org/v19n3/decock.pdf), [dataset](http://jse.amstat.org/v19n3/decock/AmesHousing.txt)).\n",
        "\n",
        "You may find it useful to start with the [Chollet notebook](https://colab.research.google.com/github/nrhodes/cs152fa2019/blob/master/Lecture_12_3_7_predicting_house_prices_(tf_2_0).ipynb) that does regression on Boston housing prices.\n",
        "\n",
        "This notebook currently loads in the Ames housing dataset into a [Pandas](https://pandas.pydata.org/) dataframe ([Pandas cheatsheet](https://pandas.pydata.org/Pandas_Cheat_Sheet.pdf)). Pandas is a Python library suited for working with large amounts of tabular data.\n",
        "\n",
        "Your goal is to train a Neural Network to a low Mean Absolute Error on your validation dataset (that is, you want to minimize the average error in predicted house price).  Since the number of samples is fairly small, I recommend using some form of K-fold cross-validation. \n",
        "\n",
        "In order to ensure that the K-fold cross-validation error is accurate, ensure that you don't make the mistake that the Chollet notebook does of doing a one-time normalization of the data  and then splitting it up into training and validation.  Instead, when you do normalization, it should be based on the mean and standard deviation of *only* the data the model is being trained on (otherwise, information from the validation data has *leaked* to the training data).\n",
        "\n",
        "You'll need to decide:\n",
        "*  The structure of the Neural Network (number of layers and sizes)\n",
        "*  The number of epochs\n",
        "*  The choice of _k_ for k-fold validation\n",
        "*  The optimizer to use\n",
        "*  The activation functions to use\n",
        "* The value of hyperparameters\n",
        "*  Whether you want to remove uniquely-identifying information from the training instances (e.g., each training instance has a unique _Order_ and _PID_ field)\n",
        "*  How you want to deal with categorical information ( [this article](https://pbpython.com/categorical-encoding.html) gives some possibilities).\n",
        "*  Whether you want to create any new columns (based on existing columns)\n",
        "* Whether you want to remove any columns\n",
        "* Whether you want to add any regularization\n",
        "\n",
        "\n",
        "Please keep a log in your notebook, keeping track of what you've tried and what its results are.\n",
        "\n",
        "I'll be grading this assignment on:\n",
        "*  Whether you've fixed the leaking validation error (w.r.t. normalization).\n",
        "*  The effort/creativity you've shown in attempting to create a good model (as shown in the log).\n",
        "*  The MAE you've achieved on the validation data.\n",
        "* How clear your notebook is. Don't just have code cells, have text cells that describe what's going on. However, don't just copy the text cells from the Aggarwal notebook.\n",
        "\n",
        "I expect that you'll spend between 10 and 20 hours on this assignment.\n"
      ]
    },
    {
      "cell_type": "markdown",
      "metadata": {
        "id": "6ORr_iENq-L-"
      },
      "source": [
        "## Initialization\n",
        "Ensure we're using TensorFlow 2.0."
      ]
    },
    {
      "cell_type": "code",
      "metadata": {
        "id": "MZs7DEE6eDyz",
        "colab": {
          "base_uri": "https://localhost:8080/",
          "height": 87
        },
        "outputId": "c13fb3d8-c1aa-4f21-9881-5ab2eb1bd427"
      },
      "source": [
        "# Install TensorFlow\n",
        "try:\n",
        "  # %tensorflow_version only exists in Colab.\n",
        "  %tensorflow_version 2.x\n",
        "except Exception:\n",
        "  pass\n",
        "!pip install gast==0.2.2  # downgrade to resolve a proble with tf and gast 0.3\n",
        "import tensorflow as tf \n",
        "print(tf.__version__)\n",
        "print(tf.keras.__version__)"
      ],
      "execution_count": null,
      "outputs": [
        {
          "output_type": "stream",
          "text": [
            "TensorFlow 2.x selected.\n",
            "Requirement already satisfied: gast==0.2.2 in /tensorflow-2.0.0/python3.6 (0.2.2)\n",
            "2.0.0\n",
            "2.2.4-tf\n"
          ],
          "name": "stdout"
        }
      ]
    },
    {
      "cell_type": "markdown",
      "metadata": {
        "id": "qoiRSRDnrB99"
      },
      "source": [
        "Setup numpy and pandas for use.  Standard usage is to use `np` for numpy and `pd` for pandas."
      ]
    },
    {
      "cell_type": "code",
      "metadata": {
        "id": "6ZtcVwqo1eiR"
      },
      "source": [
        "import pandas as pd\n",
        "import numpy as np\n",
        "\n",
        "np.random.seed(829)"
      ],
      "execution_count": null,
      "outputs": []
    },
    {
      "cell_type": "markdown",
      "metadata": {
        "id": "7mr6YuizrPAV"
      },
      "source": [
        "## Loading the dataset\n",
        "This reads from the Ames housing tab-separated file into a pandas dataframe."
      ]
    },
    {
      "cell_type": "code",
      "metadata": {
        "id": "sdKAtsP61h7b",
        "colab": {
          "base_uri": "https://localhost:8080/",
          "height": 72
        },
        "outputId": "67c5ccba-9025-4109-b5e6-bb58ce2ab12e"
      },
      "source": [
        "df = pd.read_csv(\"http://jse.amstat.org/v19n3/decock/AmesHousing.txt\", sep=None)"
      ],
      "execution_count": null,
      "outputs": [
        {
          "output_type": "stream",
          "text": [
            "/usr/local/lib/python3.6/dist-packages/ipykernel_launcher.py:1: ParserWarning: Falling back to the 'python' engine because the 'c' engine does not support sep=None with delim_whitespace=False; you can avoid this warning by specifying engine='python'.\n",
            "  \"\"\"Entry point for launching an IPython kernel.\n"
          ],
          "name": "stderr"
        }
      ]
    },
    {
      "cell_type": "markdown",
      "metadata": {
        "id": "MkE10O0SMcet"
      },
      "source": [
        "We'll make one change to the data. We'll remove a handful of outliers with total indoor square footage > 4000. I don't care about predicting those mansions in Ames, Iowa."
      ]
    },
    {
      "cell_type": "code",
      "metadata": {
        "id": "ldnkIWk12E5C"
      },
      "source": [
        "df = df[df['1st Flr SF'] + df['2nd Flr SF'] <= 4000]"
      ],
      "execution_count": null,
      "outputs": []
    },
    {
      "cell_type": "markdown",
      "metadata": {
        "id": "sL699uMPrWNz"
      },
      "source": [
        "Let's look at the data:"
      ]
    },
    {
      "cell_type": "code",
      "metadata": {
        "id": "r5NKJvl5rayU",
        "colab": {
          "base_uri": "https://localhost:8080/",
          "height": 472
        },
        "outputId": "a8916851-cffa-4d4b-8b6f-257df26ca3f4"
      },
      "source": [
        "df"
      ],
      "execution_count": null,
      "outputs": [
        {
          "output_type": "execute_result",
          "data": {
            "text/html": [
              "<div>\n",
              "<style scoped>\n",
              "    .dataframe tbody tr th:only-of-type {\n",
              "        vertical-align: middle;\n",
              "    }\n",
              "\n",
              "    .dataframe tbody tr th {\n",
              "        vertical-align: top;\n",
              "    }\n",
              "\n",
              "    .dataframe thead th {\n",
              "        text-align: right;\n",
              "    }\n",
              "</style>\n",
              "<table border=\"1\" class=\"dataframe\">\n",
              "  <thead>\n",
              "    <tr style=\"text-align: right;\">\n",
              "      <th></th>\n",
              "      <th>Order</th>\n",
              "      <th>PID</th>\n",
              "      <th>MS SubClass</th>\n",
              "      <th>MS Zoning</th>\n",
              "      <th>Lot Frontage</th>\n",
              "      <th>Lot Area</th>\n",
              "      <th>Street</th>\n",
              "      <th>Alley</th>\n",
              "      <th>Lot Shape</th>\n",
              "      <th>Land Contour</th>\n",
              "      <th>Utilities</th>\n",
              "      <th>Lot Config</th>\n",
              "      <th>Land Slope</th>\n",
              "      <th>Neighborhood</th>\n",
              "      <th>Condition 1</th>\n",
              "      <th>Condition 2</th>\n",
              "      <th>Bldg Type</th>\n",
              "      <th>House Style</th>\n",
              "      <th>Overall Qual</th>\n",
              "      <th>Overall Cond</th>\n",
              "      <th>Year Built</th>\n",
              "      <th>Year Remod/Add</th>\n",
              "      <th>Roof Style</th>\n",
              "      <th>Roof Matl</th>\n",
              "      <th>Exterior 1st</th>\n",
              "      <th>Exterior 2nd</th>\n",
              "      <th>Mas Vnr Type</th>\n",
              "      <th>Mas Vnr Area</th>\n",
              "      <th>Exter Qual</th>\n",
              "      <th>Exter Cond</th>\n",
              "      <th>Foundation</th>\n",
              "      <th>Bsmt Qual</th>\n",
              "      <th>Bsmt Cond</th>\n",
              "      <th>Bsmt Exposure</th>\n",
              "      <th>BsmtFin Type 1</th>\n",
              "      <th>BsmtFin SF 1</th>\n",
              "      <th>BsmtFin Type 2</th>\n",
              "      <th>BsmtFin SF 2</th>\n",
              "      <th>Bsmt Unf SF</th>\n",
              "      <th>Total Bsmt SF</th>\n",
              "      <th>...</th>\n",
              "      <th>Central Air</th>\n",
              "      <th>Electrical</th>\n",
              "      <th>1st Flr SF</th>\n",
              "      <th>2nd Flr SF</th>\n",
              "      <th>Low Qual Fin SF</th>\n",
              "      <th>Gr Liv Area</th>\n",
              "      <th>Bsmt Full Bath</th>\n",
              "      <th>Bsmt Half Bath</th>\n",
              "      <th>Full Bath</th>\n",
              "      <th>Half Bath</th>\n",
              "      <th>Bedroom AbvGr</th>\n",
              "      <th>Kitchen AbvGr</th>\n",
              "      <th>Kitchen Qual</th>\n",
              "      <th>TotRms AbvGrd</th>\n",
              "      <th>Functional</th>\n",
              "      <th>Fireplaces</th>\n",
              "      <th>Fireplace Qu</th>\n",
              "      <th>Garage Type</th>\n",
              "      <th>Garage Yr Blt</th>\n",
              "      <th>Garage Finish</th>\n",
              "      <th>Garage Cars</th>\n",
              "      <th>Garage Area</th>\n",
              "      <th>Garage Qual</th>\n",
              "      <th>Garage Cond</th>\n",
              "      <th>Paved Drive</th>\n",
              "      <th>Wood Deck SF</th>\n",
              "      <th>Open Porch SF</th>\n",
              "      <th>Enclosed Porch</th>\n",
              "      <th>3Ssn Porch</th>\n",
              "      <th>Screen Porch</th>\n",
              "      <th>Pool Area</th>\n",
              "      <th>Pool QC</th>\n",
              "      <th>Fence</th>\n",
              "      <th>Misc Feature</th>\n",
              "      <th>Misc Val</th>\n",
              "      <th>Mo Sold</th>\n",
              "      <th>Yr Sold</th>\n",
              "      <th>Sale Type</th>\n",
              "      <th>Sale Condition</th>\n",
              "      <th>SalePrice</th>\n",
              "    </tr>\n",
              "  </thead>\n",
              "  <tbody>\n",
              "    <tr>\n",
              "      <th>0</th>\n",
              "      <td>1</td>\n",
              "      <td>526301100</td>\n",
              "      <td>20</td>\n",
              "      <td>RL</td>\n",
              "      <td>141.0</td>\n",
              "      <td>31770</td>\n",
              "      <td>Pave</td>\n",
              "      <td>NaN</td>\n",
              "      <td>IR1</td>\n",
              "      <td>Lvl</td>\n",
              "      <td>AllPub</td>\n",
              "      <td>Corner</td>\n",
              "      <td>Gtl</td>\n",
              "      <td>NAmes</td>\n",
              "      <td>Norm</td>\n",
              "      <td>Norm</td>\n",
              "      <td>1Fam</td>\n",
              "      <td>1Story</td>\n",
              "      <td>6</td>\n",
              "      <td>5</td>\n",
              "      <td>1960</td>\n",
              "      <td>1960</td>\n",
              "      <td>Hip</td>\n",
              "      <td>CompShg</td>\n",
              "      <td>BrkFace</td>\n",
              "      <td>Plywood</td>\n",
              "      <td>Stone</td>\n",
              "      <td>112.0</td>\n",
              "      <td>TA</td>\n",
              "      <td>TA</td>\n",
              "      <td>CBlock</td>\n",
              "      <td>TA</td>\n",
              "      <td>Gd</td>\n",
              "      <td>Gd</td>\n",
              "      <td>BLQ</td>\n",
              "      <td>639.0</td>\n",
              "      <td>Unf</td>\n",
              "      <td>0.0</td>\n",
              "      <td>441.0</td>\n",
              "      <td>1080.0</td>\n",
              "      <td>...</td>\n",
              "      <td>Y</td>\n",
              "      <td>SBrkr</td>\n",
              "      <td>1656</td>\n",
              "      <td>0</td>\n",
              "      <td>0</td>\n",
              "      <td>1656</td>\n",
              "      <td>1.0</td>\n",
              "      <td>0.0</td>\n",
              "      <td>1</td>\n",
              "      <td>0</td>\n",
              "      <td>3</td>\n",
              "      <td>1</td>\n",
              "      <td>TA</td>\n",
              "      <td>7</td>\n",
              "      <td>Typ</td>\n",
              "      <td>2</td>\n",
              "      <td>Gd</td>\n",
              "      <td>Attchd</td>\n",
              "      <td>1960.0</td>\n",
              "      <td>Fin</td>\n",
              "      <td>2.0</td>\n",
              "      <td>528.0</td>\n",
              "      <td>TA</td>\n",
              "      <td>TA</td>\n",
              "      <td>P</td>\n",
              "      <td>210</td>\n",
              "      <td>62</td>\n",
              "      <td>0</td>\n",
              "      <td>0</td>\n",
              "      <td>0</td>\n",
              "      <td>0</td>\n",
              "      <td>NaN</td>\n",
              "      <td>NaN</td>\n",
              "      <td>NaN</td>\n",
              "      <td>0</td>\n",
              "      <td>5</td>\n",
              "      <td>2010</td>\n",
              "      <td>WD</td>\n",
              "      <td>Normal</td>\n",
              "      <td>215000</td>\n",
              "    </tr>\n",
              "    <tr>\n",
              "      <th>1</th>\n",
              "      <td>2</td>\n",
              "      <td>526350040</td>\n",
              "      <td>20</td>\n",
              "      <td>RH</td>\n",
              "      <td>80.0</td>\n",
              "      <td>11622</td>\n",
              "      <td>Pave</td>\n",
              "      <td>NaN</td>\n",
              "      <td>Reg</td>\n",
              "      <td>Lvl</td>\n",
              "      <td>AllPub</td>\n",
              "      <td>Inside</td>\n",
              "      <td>Gtl</td>\n",
              "      <td>NAmes</td>\n",
              "      <td>Feedr</td>\n",
              "      <td>Norm</td>\n",
              "      <td>1Fam</td>\n",
              "      <td>1Story</td>\n",
              "      <td>5</td>\n",
              "      <td>6</td>\n",
              "      <td>1961</td>\n",
              "      <td>1961</td>\n",
              "      <td>Gable</td>\n",
              "      <td>CompShg</td>\n",
              "      <td>VinylSd</td>\n",
              "      <td>VinylSd</td>\n",
              "      <td>None</td>\n",
              "      <td>0.0</td>\n",
              "      <td>TA</td>\n",
              "      <td>TA</td>\n",
              "      <td>CBlock</td>\n",
              "      <td>TA</td>\n",
              "      <td>TA</td>\n",
              "      <td>No</td>\n",
              "      <td>Rec</td>\n",
              "      <td>468.0</td>\n",
              "      <td>LwQ</td>\n",
              "      <td>144.0</td>\n",
              "      <td>270.0</td>\n",
              "      <td>882.0</td>\n",
              "      <td>...</td>\n",
              "      <td>Y</td>\n",
              "      <td>SBrkr</td>\n",
              "      <td>896</td>\n",
              "      <td>0</td>\n",
              "      <td>0</td>\n",
              "      <td>896</td>\n",
              "      <td>0.0</td>\n",
              "      <td>0.0</td>\n",
              "      <td>1</td>\n",
              "      <td>0</td>\n",
              "      <td>2</td>\n",
              "      <td>1</td>\n",
              "      <td>TA</td>\n",
              "      <td>5</td>\n",
              "      <td>Typ</td>\n",
              "      <td>0</td>\n",
              "      <td>NaN</td>\n",
              "      <td>Attchd</td>\n",
              "      <td>1961.0</td>\n",
              "      <td>Unf</td>\n",
              "      <td>1.0</td>\n",
              "      <td>730.0</td>\n",
              "      <td>TA</td>\n",
              "      <td>TA</td>\n",
              "      <td>Y</td>\n",
              "      <td>140</td>\n",
              "      <td>0</td>\n",
              "      <td>0</td>\n",
              "      <td>0</td>\n",
              "      <td>120</td>\n",
              "      <td>0</td>\n",
              "      <td>NaN</td>\n",
              "      <td>MnPrv</td>\n",
              "      <td>NaN</td>\n",
              "      <td>0</td>\n",
              "      <td>6</td>\n",
              "      <td>2010</td>\n",
              "      <td>WD</td>\n",
              "      <td>Normal</td>\n",
              "      <td>105000</td>\n",
              "    </tr>\n",
              "    <tr>\n",
              "      <th>2</th>\n",
              "      <td>3</td>\n",
              "      <td>526351010</td>\n",
              "      <td>20</td>\n",
              "      <td>RL</td>\n",
              "      <td>81.0</td>\n",
              "      <td>14267</td>\n",
              "      <td>Pave</td>\n",
              "      <td>NaN</td>\n",
              "      <td>IR1</td>\n",
              "      <td>Lvl</td>\n",
              "      <td>AllPub</td>\n",
              "      <td>Corner</td>\n",
              "      <td>Gtl</td>\n",
              "      <td>NAmes</td>\n",
              "      <td>Norm</td>\n",
              "      <td>Norm</td>\n",
              "      <td>1Fam</td>\n",
              "      <td>1Story</td>\n",
              "      <td>6</td>\n",
              "      <td>6</td>\n",
              "      <td>1958</td>\n",
              "      <td>1958</td>\n",
              "      <td>Hip</td>\n",
              "      <td>CompShg</td>\n",
              "      <td>Wd Sdng</td>\n",
              "      <td>Wd Sdng</td>\n",
              "      <td>BrkFace</td>\n",
              "      <td>108.0</td>\n",
              "      <td>TA</td>\n",
              "      <td>TA</td>\n",
              "      <td>CBlock</td>\n",
              "      <td>TA</td>\n",
              "      <td>TA</td>\n",
              "      <td>No</td>\n",
              "      <td>ALQ</td>\n",
              "      <td>923.0</td>\n",
              "      <td>Unf</td>\n",
              "      <td>0.0</td>\n",
              "      <td>406.0</td>\n",
              "      <td>1329.0</td>\n",
              "      <td>...</td>\n",
              "      <td>Y</td>\n",
              "      <td>SBrkr</td>\n",
              "      <td>1329</td>\n",
              "      <td>0</td>\n",
              "      <td>0</td>\n",
              "      <td>1329</td>\n",
              "      <td>0.0</td>\n",
              "      <td>0.0</td>\n",
              "      <td>1</td>\n",
              "      <td>1</td>\n",
              "      <td>3</td>\n",
              "      <td>1</td>\n",
              "      <td>Gd</td>\n",
              "      <td>6</td>\n",
              "      <td>Typ</td>\n",
              "      <td>0</td>\n",
              "      <td>NaN</td>\n",
              "      <td>Attchd</td>\n",
              "      <td>1958.0</td>\n",
              "      <td>Unf</td>\n",
              "      <td>1.0</td>\n",
              "      <td>312.0</td>\n",
              "      <td>TA</td>\n",
              "      <td>TA</td>\n",
              "      <td>Y</td>\n",
              "      <td>393</td>\n",
              "      <td>36</td>\n",
              "      <td>0</td>\n",
              "      <td>0</td>\n",
              "      <td>0</td>\n",
              "      <td>0</td>\n",
              "      <td>NaN</td>\n",
              "      <td>NaN</td>\n",
              "      <td>Gar2</td>\n",
              "      <td>12500</td>\n",
              "      <td>6</td>\n",
              "      <td>2010</td>\n",
              "      <td>WD</td>\n",
              "      <td>Normal</td>\n",
              "      <td>172000</td>\n",
              "    </tr>\n",
              "    <tr>\n",
              "      <th>3</th>\n",
              "      <td>4</td>\n",
              "      <td>526353030</td>\n",
              "      <td>20</td>\n",
              "      <td>RL</td>\n",
              "      <td>93.0</td>\n",
              "      <td>11160</td>\n",
              "      <td>Pave</td>\n",
              "      <td>NaN</td>\n",
              "      <td>Reg</td>\n",
              "      <td>Lvl</td>\n",
              "      <td>AllPub</td>\n",
              "      <td>Corner</td>\n",
              "      <td>Gtl</td>\n",
              "      <td>NAmes</td>\n",
              "      <td>Norm</td>\n",
              "      <td>Norm</td>\n",
              "      <td>1Fam</td>\n",
              "      <td>1Story</td>\n",
              "      <td>7</td>\n",
              "      <td>5</td>\n",
              "      <td>1968</td>\n",
              "      <td>1968</td>\n",
              "      <td>Hip</td>\n",
              "      <td>CompShg</td>\n",
              "      <td>BrkFace</td>\n",
              "      <td>BrkFace</td>\n",
              "      <td>None</td>\n",
              "      <td>0.0</td>\n",
              "      <td>Gd</td>\n",
              "      <td>TA</td>\n",
              "      <td>CBlock</td>\n",
              "      <td>TA</td>\n",
              "      <td>TA</td>\n",
              "      <td>No</td>\n",
              "      <td>ALQ</td>\n",
              "      <td>1065.0</td>\n",
              "      <td>Unf</td>\n",
              "      <td>0.0</td>\n",
              "      <td>1045.0</td>\n",
              "      <td>2110.0</td>\n",
              "      <td>...</td>\n",
              "      <td>Y</td>\n",
              "      <td>SBrkr</td>\n",
              "      <td>2110</td>\n",
              "      <td>0</td>\n",
              "      <td>0</td>\n",
              "      <td>2110</td>\n",
              "      <td>1.0</td>\n",
              "      <td>0.0</td>\n",
              "      <td>2</td>\n",
              "      <td>1</td>\n",
              "      <td>3</td>\n",
              "      <td>1</td>\n",
              "      <td>Ex</td>\n",
              "      <td>8</td>\n",
              "      <td>Typ</td>\n",
              "      <td>2</td>\n",
              "      <td>TA</td>\n",
              "      <td>Attchd</td>\n",
              "      <td>1968.0</td>\n",
              "      <td>Fin</td>\n",
              "      <td>2.0</td>\n",
              "      <td>522.0</td>\n",
              "      <td>TA</td>\n",
              "      <td>TA</td>\n",
              "      <td>Y</td>\n",
              "      <td>0</td>\n",
              "      <td>0</td>\n",
              "      <td>0</td>\n",
              "      <td>0</td>\n",
              "      <td>0</td>\n",
              "      <td>0</td>\n",
              "      <td>NaN</td>\n",
              "      <td>NaN</td>\n",
              "      <td>NaN</td>\n",
              "      <td>0</td>\n",
              "      <td>4</td>\n",
              "      <td>2010</td>\n",
              "      <td>WD</td>\n",
              "      <td>Normal</td>\n",
              "      <td>244000</td>\n",
              "    </tr>\n",
              "    <tr>\n",
              "      <th>4</th>\n",
              "      <td>5</td>\n",
              "      <td>527105010</td>\n",
              "      <td>60</td>\n",
              "      <td>RL</td>\n",
              "      <td>74.0</td>\n",
              "      <td>13830</td>\n",
              "      <td>Pave</td>\n",
              "      <td>NaN</td>\n",
              "      <td>IR1</td>\n",
              "      <td>Lvl</td>\n",
              "      <td>AllPub</td>\n",
              "      <td>Inside</td>\n",
              "      <td>Gtl</td>\n",
              "      <td>Gilbert</td>\n",
              "      <td>Norm</td>\n",
              "      <td>Norm</td>\n",
              "      <td>1Fam</td>\n",
              "      <td>2Story</td>\n",
              "      <td>5</td>\n",
              "      <td>5</td>\n",
              "      <td>1997</td>\n",
              "      <td>1998</td>\n",
              "      <td>Gable</td>\n",
              "      <td>CompShg</td>\n",
              "      <td>VinylSd</td>\n",
              "      <td>VinylSd</td>\n",
              "      <td>None</td>\n",
              "      <td>0.0</td>\n",
              "      <td>TA</td>\n",
              "      <td>TA</td>\n",
              "      <td>PConc</td>\n",
              "      <td>Gd</td>\n",
              "      <td>TA</td>\n",
              "      <td>No</td>\n",
              "      <td>GLQ</td>\n",
              "      <td>791.0</td>\n",
              "      <td>Unf</td>\n",
              "      <td>0.0</td>\n",
              "      <td>137.0</td>\n",
              "      <td>928.0</td>\n",
              "      <td>...</td>\n",
              "      <td>Y</td>\n",
              "      <td>SBrkr</td>\n",
              "      <td>928</td>\n",
              "      <td>701</td>\n",
              "      <td>0</td>\n",
              "      <td>1629</td>\n",
              "      <td>0.0</td>\n",
              "      <td>0.0</td>\n",
              "      <td>2</td>\n",
              "      <td>1</td>\n",
              "      <td>3</td>\n",
              "      <td>1</td>\n",
              "      <td>TA</td>\n",
              "      <td>6</td>\n",
              "      <td>Typ</td>\n",
              "      <td>1</td>\n",
              "      <td>TA</td>\n",
              "      <td>Attchd</td>\n",
              "      <td>1997.0</td>\n",
              "      <td>Fin</td>\n",
              "      <td>2.0</td>\n",
              "      <td>482.0</td>\n",
              "      <td>TA</td>\n",
              "      <td>TA</td>\n",
              "      <td>Y</td>\n",
              "      <td>212</td>\n",
              "      <td>34</td>\n",
              "      <td>0</td>\n",
              "      <td>0</td>\n",
              "      <td>0</td>\n",
              "      <td>0</td>\n",
              "      <td>NaN</td>\n",
              "      <td>MnPrv</td>\n",
              "      <td>NaN</td>\n",
              "      <td>0</td>\n",
              "      <td>3</td>\n",
              "      <td>2010</td>\n",
              "      <td>WD</td>\n",
              "      <td>Normal</td>\n",
              "      <td>189900</td>\n",
              "    </tr>\n",
              "    <tr>\n",
              "      <th>...</th>\n",
              "      <td>...</td>\n",
              "      <td>...</td>\n",
              "      <td>...</td>\n",
              "      <td>...</td>\n",
              "      <td>...</td>\n",
              "      <td>...</td>\n",
              "      <td>...</td>\n",
              "      <td>...</td>\n",
              "      <td>...</td>\n",
              "      <td>...</td>\n",
              "      <td>...</td>\n",
              "      <td>...</td>\n",
              "      <td>...</td>\n",
              "      <td>...</td>\n",
              "      <td>...</td>\n",
              "      <td>...</td>\n",
              "      <td>...</td>\n",
              "      <td>...</td>\n",
              "      <td>...</td>\n",
              "      <td>...</td>\n",
              "      <td>...</td>\n",
              "      <td>...</td>\n",
              "      <td>...</td>\n",
              "      <td>...</td>\n",
              "      <td>...</td>\n",
              "      <td>...</td>\n",
              "      <td>...</td>\n",
              "      <td>...</td>\n",
              "      <td>...</td>\n",
              "      <td>...</td>\n",
              "      <td>...</td>\n",
              "      <td>...</td>\n",
              "      <td>...</td>\n",
              "      <td>...</td>\n",
              "      <td>...</td>\n",
              "      <td>...</td>\n",
              "      <td>...</td>\n",
              "      <td>...</td>\n",
              "      <td>...</td>\n",
              "      <td>...</td>\n",
              "      <td>...</td>\n",
              "      <td>...</td>\n",
              "      <td>...</td>\n",
              "      <td>...</td>\n",
              "      <td>...</td>\n",
              "      <td>...</td>\n",
              "      <td>...</td>\n",
              "      <td>...</td>\n",
              "      <td>...</td>\n",
              "      <td>...</td>\n",
              "      <td>...</td>\n",
              "      <td>...</td>\n",
              "      <td>...</td>\n",
              "      <td>...</td>\n",
              "      <td>...</td>\n",
              "      <td>...</td>\n",
              "      <td>...</td>\n",
              "      <td>...</td>\n",
              "      <td>...</td>\n",
              "      <td>...</td>\n",
              "      <td>...</td>\n",
              "      <td>...</td>\n",
              "      <td>...</td>\n",
              "      <td>...</td>\n",
              "      <td>...</td>\n",
              "      <td>...</td>\n",
              "      <td>...</td>\n",
              "      <td>...</td>\n",
              "      <td>...</td>\n",
              "      <td>...</td>\n",
              "      <td>...</td>\n",
              "      <td>...</td>\n",
              "      <td>...</td>\n",
              "      <td>...</td>\n",
              "      <td>...</td>\n",
              "      <td>...</td>\n",
              "      <td>...</td>\n",
              "      <td>...</td>\n",
              "      <td>...</td>\n",
              "      <td>...</td>\n",
              "      <td>...</td>\n",
              "    </tr>\n",
              "    <tr>\n",
              "      <th>2925</th>\n",
              "      <td>2926</td>\n",
              "      <td>923275080</td>\n",
              "      <td>80</td>\n",
              "      <td>RL</td>\n",
              "      <td>37.0</td>\n",
              "      <td>7937</td>\n",
              "      <td>Pave</td>\n",
              "      <td>NaN</td>\n",
              "      <td>IR1</td>\n",
              "      <td>Lvl</td>\n",
              "      <td>AllPub</td>\n",
              "      <td>CulDSac</td>\n",
              "      <td>Gtl</td>\n",
              "      <td>Mitchel</td>\n",
              "      <td>Norm</td>\n",
              "      <td>Norm</td>\n",
              "      <td>1Fam</td>\n",
              "      <td>SLvl</td>\n",
              "      <td>6</td>\n",
              "      <td>6</td>\n",
              "      <td>1984</td>\n",
              "      <td>1984</td>\n",
              "      <td>Gable</td>\n",
              "      <td>CompShg</td>\n",
              "      <td>HdBoard</td>\n",
              "      <td>HdBoard</td>\n",
              "      <td>None</td>\n",
              "      <td>0.0</td>\n",
              "      <td>TA</td>\n",
              "      <td>TA</td>\n",
              "      <td>CBlock</td>\n",
              "      <td>TA</td>\n",
              "      <td>TA</td>\n",
              "      <td>Av</td>\n",
              "      <td>GLQ</td>\n",
              "      <td>819.0</td>\n",
              "      <td>Unf</td>\n",
              "      <td>0.0</td>\n",
              "      <td>184.0</td>\n",
              "      <td>1003.0</td>\n",
              "      <td>...</td>\n",
              "      <td>Y</td>\n",
              "      <td>SBrkr</td>\n",
              "      <td>1003</td>\n",
              "      <td>0</td>\n",
              "      <td>0</td>\n",
              "      <td>1003</td>\n",
              "      <td>1.0</td>\n",
              "      <td>0.0</td>\n",
              "      <td>1</td>\n",
              "      <td>0</td>\n",
              "      <td>3</td>\n",
              "      <td>1</td>\n",
              "      <td>TA</td>\n",
              "      <td>6</td>\n",
              "      <td>Typ</td>\n",
              "      <td>0</td>\n",
              "      <td>NaN</td>\n",
              "      <td>Detchd</td>\n",
              "      <td>1984.0</td>\n",
              "      <td>Unf</td>\n",
              "      <td>2.0</td>\n",
              "      <td>588.0</td>\n",
              "      <td>TA</td>\n",
              "      <td>TA</td>\n",
              "      <td>Y</td>\n",
              "      <td>120</td>\n",
              "      <td>0</td>\n",
              "      <td>0</td>\n",
              "      <td>0</td>\n",
              "      <td>0</td>\n",
              "      <td>0</td>\n",
              "      <td>NaN</td>\n",
              "      <td>GdPrv</td>\n",
              "      <td>NaN</td>\n",
              "      <td>0</td>\n",
              "      <td>3</td>\n",
              "      <td>2006</td>\n",
              "      <td>WD</td>\n",
              "      <td>Normal</td>\n",
              "      <td>142500</td>\n",
              "    </tr>\n",
              "    <tr>\n",
              "      <th>2926</th>\n",
              "      <td>2927</td>\n",
              "      <td>923276100</td>\n",
              "      <td>20</td>\n",
              "      <td>RL</td>\n",
              "      <td>NaN</td>\n",
              "      <td>8885</td>\n",
              "      <td>Pave</td>\n",
              "      <td>NaN</td>\n",
              "      <td>IR1</td>\n",
              "      <td>Low</td>\n",
              "      <td>AllPub</td>\n",
              "      <td>Inside</td>\n",
              "      <td>Mod</td>\n",
              "      <td>Mitchel</td>\n",
              "      <td>Norm</td>\n",
              "      <td>Norm</td>\n",
              "      <td>1Fam</td>\n",
              "      <td>1Story</td>\n",
              "      <td>5</td>\n",
              "      <td>5</td>\n",
              "      <td>1983</td>\n",
              "      <td>1983</td>\n",
              "      <td>Gable</td>\n",
              "      <td>CompShg</td>\n",
              "      <td>HdBoard</td>\n",
              "      <td>HdBoard</td>\n",
              "      <td>None</td>\n",
              "      <td>0.0</td>\n",
              "      <td>TA</td>\n",
              "      <td>TA</td>\n",
              "      <td>CBlock</td>\n",
              "      <td>Gd</td>\n",
              "      <td>TA</td>\n",
              "      <td>Av</td>\n",
              "      <td>BLQ</td>\n",
              "      <td>301.0</td>\n",
              "      <td>ALQ</td>\n",
              "      <td>324.0</td>\n",
              "      <td>239.0</td>\n",
              "      <td>864.0</td>\n",
              "      <td>...</td>\n",
              "      <td>Y</td>\n",
              "      <td>SBrkr</td>\n",
              "      <td>902</td>\n",
              "      <td>0</td>\n",
              "      <td>0</td>\n",
              "      <td>902</td>\n",
              "      <td>1.0</td>\n",
              "      <td>0.0</td>\n",
              "      <td>1</td>\n",
              "      <td>0</td>\n",
              "      <td>2</td>\n",
              "      <td>1</td>\n",
              "      <td>TA</td>\n",
              "      <td>5</td>\n",
              "      <td>Typ</td>\n",
              "      <td>0</td>\n",
              "      <td>NaN</td>\n",
              "      <td>Attchd</td>\n",
              "      <td>1983.0</td>\n",
              "      <td>Unf</td>\n",
              "      <td>2.0</td>\n",
              "      <td>484.0</td>\n",
              "      <td>TA</td>\n",
              "      <td>TA</td>\n",
              "      <td>Y</td>\n",
              "      <td>164</td>\n",
              "      <td>0</td>\n",
              "      <td>0</td>\n",
              "      <td>0</td>\n",
              "      <td>0</td>\n",
              "      <td>0</td>\n",
              "      <td>NaN</td>\n",
              "      <td>MnPrv</td>\n",
              "      <td>NaN</td>\n",
              "      <td>0</td>\n",
              "      <td>6</td>\n",
              "      <td>2006</td>\n",
              "      <td>WD</td>\n",
              "      <td>Normal</td>\n",
              "      <td>131000</td>\n",
              "    </tr>\n",
              "    <tr>\n",
              "      <th>2927</th>\n",
              "      <td>2928</td>\n",
              "      <td>923400125</td>\n",
              "      <td>85</td>\n",
              "      <td>RL</td>\n",
              "      <td>62.0</td>\n",
              "      <td>10441</td>\n",
              "      <td>Pave</td>\n",
              "      <td>NaN</td>\n",
              "      <td>Reg</td>\n",
              "      <td>Lvl</td>\n",
              "      <td>AllPub</td>\n",
              "      <td>Inside</td>\n",
              "      <td>Gtl</td>\n",
              "      <td>Mitchel</td>\n",
              "      <td>Norm</td>\n",
              "      <td>Norm</td>\n",
              "      <td>1Fam</td>\n",
              "      <td>SFoyer</td>\n",
              "      <td>5</td>\n",
              "      <td>5</td>\n",
              "      <td>1992</td>\n",
              "      <td>1992</td>\n",
              "      <td>Gable</td>\n",
              "      <td>CompShg</td>\n",
              "      <td>HdBoard</td>\n",
              "      <td>Wd Shng</td>\n",
              "      <td>None</td>\n",
              "      <td>0.0</td>\n",
              "      <td>TA</td>\n",
              "      <td>TA</td>\n",
              "      <td>PConc</td>\n",
              "      <td>Gd</td>\n",
              "      <td>TA</td>\n",
              "      <td>Av</td>\n",
              "      <td>GLQ</td>\n",
              "      <td>337.0</td>\n",
              "      <td>Unf</td>\n",
              "      <td>0.0</td>\n",
              "      <td>575.0</td>\n",
              "      <td>912.0</td>\n",
              "      <td>...</td>\n",
              "      <td>Y</td>\n",
              "      <td>SBrkr</td>\n",
              "      <td>970</td>\n",
              "      <td>0</td>\n",
              "      <td>0</td>\n",
              "      <td>970</td>\n",
              "      <td>0.0</td>\n",
              "      <td>1.0</td>\n",
              "      <td>1</td>\n",
              "      <td>0</td>\n",
              "      <td>3</td>\n",
              "      <td>1</td>\n",
              "      <td>TA</td>\n",
              "      <td>6</td>\n",
              "      <td>Typ</td>\n",
              "      <td>0</td>\n",
              "      <td>NaN</td>\n",
              "      <td>NaN</td>\n",
              "      <td>NaN</td>\n",
              "      <td>NaN</td>\n",
              "      <td>0.0</td>\n",
              "      <td>0.0</td>\n",
              "      <td>NaN</td>\n",
              "      <td>NaN</td>\n",
              "      <td>Y</td>\n",
              "      <td>80</td>\n",
              "      <td>32</td>\n",
              "      <td>0</td>\n",
              "      <td>0</td>\n",
              "      <td>0</td>\n",
              "      <td>0</td>\n",
              "      <td>NaN</td>\n",
              "      <td>MnPrv</td>\n",
              "      <td>Shed</td>\n",
              "      <td>700</td>\n",
              "      <td>7</td>\n",
              "      <td>2006</td>\n",
              "      <td>WD</td>\n",
              "      <td>Normal</td>\n",
              "      <td>132000</td>\n",
              "    </tr>\n",
              "    <tr>\n",
              "      <th>2928</th>\n",
              "      <td>2929</td>\n",
              "      <td>924100070</td>\n",
              "      <td>20</td>\n",
              "      <td>RL</td>\n",
              "      <td>77.0</td>\n",
              "      <td>10010</td>\n",
              "      <td>Pave</td>\n",
              "      <td>NaN</td>\n",
              "      <td>Reg</td>\n",
              "      <td>Lvl</td>\n",
              "      <td>AllPub</td>\n",
              "      <td>Inside</td>\n",
              "      <td>Mod</td>\n",
              "      <td>Mitchel</td>\n",
              "      <td>Norm</td>\n",
              "      <td>Norm</td>\n",
              "      <td>1Fam</td>\n",
              "      <td>1Story</td>\n",
              "      <td>5</td>\n",
              "      <td>5</td>\n",
              "      <td>1974</td>\n",
              "      <td>1975</td>\n",
              "      <td>Gable</td>\n",
              "      <td>CompShg</td>\n",
              "      <td>HdBoard</td>\n",
              "      <td>HdBoard</td>\n",
              "      <td>None</td>\n",
              "      <td>0.0</td>\n",
              "      <td>TA</td>\n",
              "      <td>TA</td>\n",
              "      <td>CBlock</td>\n",
              "      <td>Gd</td>\n",
              "      <td>TA</td>\n",
              "      <td>Av</td>\n",
              "      <td>ALQ</td>\n",
              "      <td>1071.0</td>\n",
              "      <td>LwQ</td>\n",
              "      <td>123.0</td>\n",
              "      <td>195.0</td>\n",
              "      <td>1389.0</td>\n",
              "      <td>...</td>\n",
              "      <td>Y</td>\n",
              "      <td>SBrkr</td>\n",
              "      <td>1389</td>\n",
              "      <td>0</td>\n",
              "      <td>0</td>\n",
              "      <td>1389</td>\n",
              "      <td>1.0</td>\n",
              "      <td>0.0</td>\n",
              "      <td>1</td>\n",
              "      <td>0</td>\n",
              "      <td>2</td>\n",
              "      <td>1</td>\n",
              "      <td>TA</td>\n",
              "      <td>6</td>\n",
              "      <td>Typ</td>\n",
              "      <td>1</td>\n",
              "      <td>TA</td>\n",
              "      <td>Attchd</td>\n",
              "      <td>1975.0</td>\n",
              "      <td>RFn</td>\n",
              "      <td>2.0</td>\n",
              "      <td>418.0</td>\n",
              "      <td>TA</td>\n",
              "      <td>TA</td>\n",
              "      <td>Y</td>\n",
              "      <td>240</td>\n",
              "      <td>38</td>\n",
              "      <td>0</td>\n",
              "      <td>0</td>\n",
              "      <td>0</td>\n",
              "      <td>0</td>\n",
              "      <td>NaN</td>\n",
              "      <td>NaN</td>\n",
              "      <td>NaN</td>\n",
              "      <td>0</td>\n",
              "      <td>4</td>\n",
              "      <td>2006</td>\n",
              "      <td>WD</td>\n",
              "      <td>Normal</td>\n",
              "      <td>170000</td>\n",
              "    </tr>\n",
              "    <tr>\n",
              "      <th>2929</th>\n",
              "      <td>2930</td>\n",
              "      <td>924151050</td>\n",
              "      <td>60</td>\n",
              "      <td>RL</td>\n",
              "      <td>74.0</td>\n",
              "      <td>9627</td>\n",
              "      <td>Pave</td>\n",
              "      <td>NaN</td>\n",
              "      <td>Reg</td>\n",
              "      <td>Lvl</td>\n",
              "      <td>AllPub</td>\n",
              "      <td>Inside</td>\n",
              "      <td>Mod</td>\n",
              "      <td>Mitchel</td>\n",
              "      <td>Norm</td>\n",
              "      <td>Norm</td>\n",
              "      <td>1Fam</td>\n",
              "      <td>2Story</td>\n",
              "      <td>7</td>\n",
              "      <td>5</td>\n",
              "      <td>1993</td>\n",
              "      <td>1994</td>\n",
              "      <td>Gable</td>\n",
              "      <td>CompShg</td>\n",
              "      <td>HdBoard</td>\n",
              "      <td>HdBoard</td>\n",
              "      <td>BrkFace</td>\n",
              "      <td>94.0</td>\n",
              "      <td>TA</td>\n",
              "      <td>TA</td>\n",
              "      <td>PConc</td>\n",
              "      <td>Gd</td>\n",
              "      <td>TA</td>\n",
              "      <td>Av</td>\n",
              "      <td>LwQ</td>\n",
              "      <td>758.0</td>\n",
              "      <td>Unf</td>\n",
              "      <td>0.0</td>\n",
              "      <td>238.0</td>\n",
              "      <td>996.0</td>\n",
              "      <td>...</td>\n",
              "      <td>Y</td>\n",
              "      <td>SBrkr</td>\n",
              "      <td>996</td>\n",
              "      <td>1004</td>\n",
              "      <td>0</td>\n",
              "      <td>2000</td>\n",
              "      <td>0.0</td>\n",
              "      <td>0.0</td>\n",
              "      <td>2</td>\n",
              "      <td>1</td>\n",
              "      <td>3</td>\n",
              "      <td>1</td>\n",
              "      <td>TA</td>\n",
              "      <td>9</td>\n",
              "      <td>Typ</td>\n",
              "      <td>1</td>\n",
              "      <td>TA</td>\n",
              "      <td>Attchd</td>\n",
              "      <td>1993.0</td>\n",
              "      <td>Fin</td>\n",
              "      <td>3.0</td>\n",
              "      <td>650.0</td>\n",
              "      <td>TA</td>\n",
              "      <td>TA</td>\n",
              "      <td>Y</td>\n",
              "      <td>190</td>\n",
              "      <td>48</td>\n",
              "      <td>0</td>\n",
              "      <td>0</td>\n",
              "      <td>0</td>\n",
              "      <td>0</td>\n",
              "      <td>NaN</td>\n",
              "      <td>NaN</td>\n",
              "      <td>NaN</td>\n",
              "      <td>0</td>\n",
              "      <td>11</td>\n",
              "      <td>2006</td>\n",
              "      <td>WD</td>\n",
              "      <td>Normal</td>\n",
              "      <td>188000</td>\n",
              "    </tr>\n",
              "  </tbody>\n",
              "</table>\n",
              "<p>2925 rows × 82 columns</p>\n",
              "</div>"
            ],
            "text/plain": [
              "      Order        PID  MS SubClass  ... Sale Type  Sale Condition  SalePrice\n",
              "0         1  526301100           20  ...       WD           Normal     215000\n",
              "1         2  526350040           20  ...       WD           Normal     105000\n",
              "2         3  526351010           20  ...       WD           Normal     172000\n",
              "3         4  526353030           20  ...       WD           Normal     244000\n",
              "4         5  527105010           60  ...       WD           Normal     189900\n",
              "...     ...        ...          ...  ...       ...             ...        ...\n",
              "2925   2926  923275080           80  ...       WD           Normal     142500\n",
              "2926   2927  923276100           20  ...       WD           Normal     131000\n",
              "2927   2928  923400125           85  ...       WD           Normal     132000\n",
              "2928   2929  924100070           20  ...       WD           Normal     170000\n",
              "2929   2930  924151050           60  ...       WD           Normal     188000\n",
              "\n",
              "[2925 rows x 82 columns]"
            ]
          },
          "metadata": {
            "tags": []
          },
          "execution_count": 14
        }
      ]
    },
    {
      "cell_type": "markdown",
      "metadata": {
        "id": "E-PsoJLRsWZt"
      },
      "source": [
        "As you can see, we have 2925 total samples and 82 columns of data (including the sales prices, which is what we will be trying to predict). The 82 columns are described at [the Ames Housing Data Documentation](http://jse.amstat.org/v19n3/decock/DataDocumentation.txt).\n",
        "\n",
        "As you can see, some of the columns (like `Year Built`) are numeric, whereas others (like `House Style`) are strings. You can't feed strings directly into a Neural Network.  The `extract_data` function below drops all string-columns. See [the docs for DataFrame.drop](https://pandas.pydata.org/pandas-docs/stable/reference/api/pandas.DataFrame.drop.html). However, at some point, you'll want to add code to encode these strings values as numbers so that the neural network can use that data."
      ]
    },
    {
      "cell_type": "markdown",
      "metadata": {
        "id": "jCqgPBRjM70d"
      },
      "source": [
        "# Preparing training and test datasets\n",
        "Break apart into training and test set.  Remember that you should only ever use the test set **one time**, at the very end to determine your final accuracy.  Don't change your model and then retest the test set accuracy!"
      ]
    },
    {
      "cell_type": "code",
      "metadata": {
        "id": "29A0hSJSNMhL"
      },
      "source": [
        "mask = np.random.rand(len(df)) < 0.85\n",
        "\n",
        "train_df = df[mask]\n",
        "test_df = df[~mask]"
      ],
      "execution_count": null,
      "outputs": []
    },
    {
      "cell_type": "code",
      "metadata": {
        "id": "Jq0fXP2ZNlme"
      },
      "source": [
        "def extract_data_labels(df):\n",
        "  labels = df['SalePrice'].values\n",
        "  df_without_string_columns_or_sale_price = df.copy().drop(columns=['SalePrice']).select_dtypes(exclude=['object'])\n",
        "  data = df_without_string_columns_or_sale_price.values.astype('float64')\n",
        "  return (data, labels)\n",
        "\n",
        "(train_data, train_targets) = extract_data_labels(train_df)\n",
        "(test_data, test_targets) = extract_data_labels(test_df)"
      ],
      "execution_count": null,
      "outputs": []
    },
    {
      "cell_type": "code",
      "metadata": {
        "id": "5hBCEM7DeDy8",
        "colab": {
          "base_uri": "https://localhost:8080/",
          "height": 34
        },
        "outputId": "0d4dbcd1-303e-43db-de9a-6768a5697f73"
      },
      "source": [
        "train_data.shape"
      ],
      "execution_count": null,
      "outputs": [
        {
          "output_type": "execute_result",
          "data": {
            "text/plain": [
              "(2472, 38)"
            ]
          },
          "metadata": {
            "tags": []
          },
          "execution_count": 133
        }
      ]
    },
    {
      "cell_type": "code",
      "metadata": {
        "id": "G94md0toeDy-",
        "colab": {
          "base_uri": "https://localhost:8080/",
          "height": 34
        },
        "outputId": "cb60bd7a-e553-4d35-aa3d-170892861e79"
      },
      "source": [
        "test_data.shape"
      ],
      "execution_count": null,
      "outputs": [
        {
          "output_type": "execute_result",
          "data": {
            "text/plain": [
              "(453, 38)"
            ]
          },
          "metadata": {
            "tags": []
          },
          "execution_count": 134
        }
      ]
    },
    {
      "cell_type": "markdown",
      "metadata": {
        "id": "RfzNZBx-eDzA"
      },
      "source": [
        "As you can see, we have 2472 training samples and 453 test samples. The data comprises 38 features (the original 82 columns minus the target column and minus the string columns)."
      ]
    },
    {
      "cell_type": "code",
      "metadata": {
        "id": "Q_aha5GgeDzB",
        "colab": {
          "base_uri": "https://localhost:8080/",
          "height": 34
        },
        "outputId": "4f9c51f3-5d52-4ec3-bea0-d03cd254abaf"
      },
      "source": [
        "train_targets"
      ],
      "execution_count": null,
      "outputs": [
        {
          "output_type": "execute_result",
          "data": {
            "text/plain": [
              "array([215000, 105000, 172000, ..., 132000, 170000, 188000])"
            ]
          },
          "metadata": {
            "tags": []
          },
          "execution_count": 135
        }
      ]
    },
    {
      "cell_type": "markdown",
      "metadata": {
        "id": "fno7KMPtSqvJ"
      },
      "source": [
        "## Hints\n",
        "### Specifying non-default hyper-parameters for optimizers\n",
        "When we've used optimizers so far, we've specificed the optimizer as a string (like `'adam'`), which instantiates the optimizer with all-default values:\n",
        "```\n",
        "model.compile(optimizer='adam', loss='mse', metrics=['mae'])\n",
        "```\n",
        "\n",
        "\n",
        "In order to specificy the hyper-parameters explicitly for an optimizer, you'll need to instantiate it with desired hyper-parameters, and then pass that instantiated optimizer to the compile method:\n",
        "```\n",
        "opt = tf.keras.optimizers.Adam(learning_rate=0.001, beta_1=0.9, beta_2=0.999)\n",
        "model.compile(optimizer=opt, loss='mse', metrics=['mae'])\n",
        "```\n",
        "\n",
        "\n",
        "\n",
        "### Normalization\n",
        "If it's good to normalize the inputs, does it also make sense to normalize the output?"
      ]
    },
    {
      "cell_type": "markdown",
      "metadata": {
        "id": "12-b6UDQp0cw"
      },
      "source": [
        "# Submit instructions\n",
        "\n",
        "Due date: October 28, 2019, 1 PM.\n",
        "\n",
        "1. Before submitting, calculate (and print) the Mean Absolute Error on the test set. This'll give the best estimate of how well the model will generalize:\n",
        "   `test_mse_score, test_mae_score = model.evaluate(test_data, test_targets)`.  \n",
        "   Don't do this calculation until you're ready to submit!  That is, you should only ever calculate this *one time*.\n",
        "2. Make sure that the output of all cells is up-to-date (do a _Runtime/Run all_). \n",
        "1. Duplicate your notebook:\n",
        "    1. Choose _File/Save a Copy in Drive…_\n",
        "    1. Rename the new copy:\n",
        "        1. Click on notebook name at the top of the window.\n",
        "        2. Rename to \"CS152Sp19Assign3 _FirstName_ _LastInitial_\" (using the correct assignment number, along with your first name, and your last initial). I need this naming so I can easily navigate through the large number of shared docs I'll have by the end of the semester.\n",
        "2. Share your document with me:\n",
        "    1. Click on the _Share_ button at the top-right of your notebook.\n",
        "    1. Enter `rhodes@g.hmc.edu` as the email address.\n",
        "    1. Click the pencil icon and select _Can  edit. \n",
        "    1. Click on _Done_.\n",
        "3. Don't edit the file after the submission deadline! (Feel free to make as many changes as you'd like before then, though.)\n",
        "4. I'll provide inline comments when I grade the submission.\n"
      ]
    },
    {
      "cell_type": "markdown",
      "metadata": {
        "id": "4RRm2vKHKhpc"
      },
      "source": [
        "# Solution:\n",
        "\n",
        "\n"
      ]
    },
    {
      "cell_type": "markdown",
      "metadata": {
        "id": "0DBYAp2EgOUS"
      },
      "source": [
        "## Step one: Make Model"
      ]
    },
    {
      "cell_type": "code",
      "metadata": {
        "id": "0BO3z69nP4nv"
      },
      "source": [
        "from tensorflow.keras import models\n",
        "from tensorflow.keras import layers\n",
        "\n",
        "def make_model():\n",
        "    model = models.Sequential()\n",
        "    model.add(layers.Dense(train_data.shape[1], activation='relu',\n",
        "                           input_shape=(train_data.shape[1],)))\n",
        "    model.add(layers.Dense(train_data.shape[1]//2, activation='relu'))\n",
        "    model.add(layers.Dense(train_data.shape[1]//4, activation='relu'))\n",
        "    model.add(layers.Dense(train_data.shape[1]//8, activation='relu'))\n",
        "    #model.add(layers.Dense(train_data.shape[1]//10, activation='relu'))\n",
        "    model.add(layers.Dense(1))\n",
        "    opt = tf.keras.optimizers.Adam(learning_rate=0.001)\n",
        "    model.compile(optimizer=opt, loss='mse', metrics=['mae'])\n",
        "    return model"
      ],
      "execution_count": null,
      "outputs": []
    },
    {
      "cell_type": "markdown",
      "metadata": {
        "id": "jcep1dEnfWX3"
      },
      "source": [
        "## Step two: Use catagroical variables & remove order of houses"
      ]
    },
    {
      "cell_type": "markdown",
      "metadata": {
        "id": "89NDMDKf9mBl"
      },
      "source": [
        "Frist, clean the data to represent the most important features "
      ]
    },
    {
      "cell_type": "code",
      "metadata": {
        "id": "KpMvNvusQ-QY",
        "colab": {
          "base_uri": "https://localhost:8080/",
          "height": 72
        },
        "outputId": "f13352d5-5df4-4230-c4e1-e3ce9b07db66"
      },
      "source": [
        "df = pd.read_csv(\"http://jse.amstat.org/v19n3/decock/AmesHousing.txt\", sep=None)\n",
        "df = df[df['1st Flr SF'] + df['2nd Flr SF'] <= 4000]\n",
        "\n",
        "\n",
        "df['Misc Feature'] = df['Misc Feature'].replace({np.nan: 'No misc. features'})\n",
        "df['Alley'] = df['Alley'].replace({np.nan: 'No alley'})\n",
        "df['Fence'] = df['Fence'].replace({np.nan: 'No fence'})\n",
        "df['Fireplace Qu'] = df['Fireplace Qu'].replace({np.nan: 'No fireplace'})\n",
        "df['Garage Finish'] = df['Garage Finish'].replace({np.nan: 'No garage'})\n",
        "df['Garage Cond'] = df['Garage Cond'].replace({np.nan: 'No garage'})\n",
        "df['Garage Qual'] = df['Garage Qual'].replace({np.nan: 'No garage'})\n",
        "df['Garage Type'] = df['Garage Type'].replace({np.nan: 'No garage'})\n",
        "df['Bsmt Cond'] = df['Bsmt Cond'].replace({np.nan: 'No basement'})\n",
        "df['Bsmt Exposure'] = df['Bsmt Exposure'].replace({np.nan: 'No basement'})\n",
        "df['Bsmt Qual'] = df['Bsmt Qual'].replace({np.nan: 'No basement'})\n",
        "df['BsmtFin Type 2'] = df['BsmtFin Type 2'].replace({np.nan: 'No basement'})\n",
        "df['BsmtFin Type 1'] = df['BsmtFin Type 1'].replace({np.nan: 'No basement'})\n",
        "df['Mas Vnr Type'] = df['Mas Vnr Type'].replace({np.nan: 'No masonry'})\n",
        "\n",
        "df['Exter Qual'] = pd.Categorical(df['Exter Qual'], ordered=True, categories=['Fa','TA','Gd','Ex'])\n",
        "df['Exter Cond'] = pd.Categorical(df['Exter Cond'], ordered=True, categories=['Po','Fa','TA','Gd','Ex'])\n",
        "df['Bsmt Qual'] = pd.Categorical(df['Bsmt Qual'], ordered=True, categories=['No basement','Fa','TA','Gd','Ex'])\n",
        "df['Bsmt Cond'] = pd.Categorical(df['Bsmt Cond'], ordered=True, categories=['No basement','Po','Fa','TA','Gd'])\n",
        "df['Heating QC'] = pd.Categorical(df['Heating QC'], ordered=True, categories=['Po','Fa','TA','Gd','Ex'])\n",
        "df['Kitchen Qual'] = pd.Categorical(df['Kitchen Qual'], ordered=True, categories=['Fa','TA','Gd','Ex'])\n",
        "df['Fireplace Qu'] = pd.Categorical(df['Fireplace Qu'], ordered=True, categories=['No fireplace','Po','Fa','TA','Gd','Ex'])\n",
        "df['Garage Qual'] = pd.Categorical(df['Garage Qual'], ordered=True, categories=['No garage','Po','Fa','TA','Gd','Ex'])\n",
        "df['Garage Cond'] = pd.Categorical(df['Garage Cond'], ordered=True, categories=['No garage','Po','Fa','TA','Gd','Ex'])\n",
        "df['Pool QC'] = pd.Categorical(df['Pool QC'], ordered=True, categories=['No pool','Fa','Gd','Ex'])\n",
        "df['Paved Drive'] = pd.Categorical(df['Paved Drive'], ordered=True, categories=['N', 'P', 'Y'])\n",
        "df['Street'] = pd.Categorical(df['Street'], ordered=True, categories=['Grvl','Pave'])\n",
        "df['Central Air'] = pd.Categorical(df['Central Air'], ordered=True, categories=['N','Y'])\n",
        "\n",
        "\n",
        "df = df.drop([ 'MS Zoning', 'Alley', 'Lot Shape', \n",
        "       'Utilities', 'Condition 1',\n",
        "       'Condition 2', 'Roof Style', 'Roof Matl',\n",
        "       'Exterior 1st', 'Exterior 2nd', 'Mas Vnr Type', \n",
        "       'Foundation',   'Bsmt Exposure',\n",
        "       'BsmtFin Type 1', 'BsmtFin Type 2', 'Heating', \n",
        "        'Electrical', 'Functional',\n",
        "        'Garage Type', 'Garage Finish', \n",
        "        'Fence', \n",
        "       'Sale Type', 'Sale Condition'],axis=1)\n",
        "df = pd.get_dummies(df, columns= ['Lot Config','Neighborhood','House Style', 'Bldg Type','Land Slope','Misc Feature'])\n",
        "\n",
        "\n"
      ],
      "execution_count": null,
      "outputs": [
        {
          "output_type": "stream",
          "text": [
            "/usr/local/lib/python3.6/dist-packages/ipykernel_launcher.py:1: ParserWarning: Falling back to the 'python' engine because the 'c' engine does not support sep=None with delim_whitespace=False; you can avoid this warning by specifying engine='python'.\n",
            "  \"\"\"Entry point for launching an IPython kernel.\n"
          ],
          "name": "stderr"
        }
      ]
    },
    {
      "cell_type": "code",
      "metadata": {
        "id": "0G_P-UGRTyX4",
        "colab": {
          "base_uri": "https://localhost:8080/",
          "height": 34
        },
        "outputId": "d180be2b-cde6-4352-ea53-2361606ad53b"
      },
      "source": [
        "df['Misc Feature'].unique()"
      ],
      "execution_count": null,
      "outputs": [
        {
          "output_type": "execute_result",
          "data": {
            "text/plain": [
              "array([nan, 'Gar2', 'Shed', 'Othr', 'Elev', 'TenC'], dtype=object)"
            ]
          },
          "metadata": {
            "tags": []
          },
          "execution_count": 91
        }
      ]
    },
    {
      "cell_type": "code",
      "metadata": {
        "id": "JPEOVsYVlM0u"
      },
      "source": [
        "mask = np.random.rand(len(df)) < 0.85"
      ],
      "execution_count": null,
      "outputs": []
    },
    {
      "cell_type": "markdown",
      "metadata": {
        "id": "-j_H6fAWicfZ"
      },
      "source": [
        "Then, create create varaibles that stores the encoded values of catagroical varialbes"
      ]
    },
    {
      "cell_type": "code",
      "metadata": {
        "id": "zOosFmcf9aJC"
      },
      "source": [
        "train_df = df[mask]\n",
        "test_df = df[~mask]\n",
        "\n",
        "for col in train_df.select_dtypes(include=['object', 'category']).columns:\n",
        "  newTitle = col+\"_categorical\"\n",
        "  train_df[col] = train_df[col].astype('category')\n",
        "  train_df[newTitle] = train_df[col].cat.codes\n",
        "  \n",
        "for col in test_df.select_dtypes(include=['object','category']).columns:\n",
        "  newTitle = col+\"_categorical\"\n",
        "  test_df[col] = test_df[col].astype('category')\n",
        "  test_df[newTitle] = test_df[col].cat.codes "
      ],
      "execution_count": null,
      "outputs": []
    },
    {
      "cell_type": "code",
      "metadata": {
        "id": "Dct7sVUBEBEU"
      },
      "source": [
        "df"
      ],
      "execution_count": null,
      "outputs": []
    },
    {
      "cell_type": "markdown",
      "metadata": {
        "id": "fP8l5J8iifhy"
      },
      "source": [
        "Then, redefine extract_data_labels as extract_data_labels2 to make sure the new version ignores the catagroial variables that has been encoded already. Moreover, extract_data_labels2 removes Order and PID, since these are arbitrary varaibles and should not affect the price Make sure to run the new function on *train_df* and *test_df*.  "
      ]
    },
    {
      "cell_type": "code",
      "metadata": {
        "id": "0dh0TgZE9eIP"
      },
      "source": [
        "def extract_data_labels2(df):\n",
        "  labels = df['SalePrice'].values\n",
        "  df_without_string_columns_or_sale_price = df.copy().drop(columns=['SalePrice']).select_dtypes(exclude=['object','category'])\n",
        "  df_without_order = df_without_string_columns_or_sale_price.drop('Order', axis=1)\n",
        "  df_without_id = df_without_order.drop('PID',axis=1)\n",
        "  data = df_without_id.values.astype('float64')\n",
        "  return (data, labels)\n",
        "\n",
        "(train_data, train_targets) = extract_data_labels2(train_df)\n",
        "(test_data, test_targets) = extract_data_labels2(test_df)"
      ],
      "execution_count": null,
      "outputs": []
    },
    {
      "cell_type": "markdown",
      "metadata": {
        "id": "3IbmSO3djNFq"
      },
      "source": [
        "Finally, check the shape of the train and test datasets after the encoded version of catagroical variables has been added"
      ]
    },
    {
      "cell_type": "code",
      "metadata": {
        "id": "3j_FjXADhqcc",
        "colab": {
          "base_uri": "https://localhost:8080/",
          "height": 34
        },
        "outputId": "8cbb467b-be4f-42e6-f906-cd7bcf369f16"
      },
      "source": [
        "train_data.shape"
      ],
      "execution_count": null,
      "outputs": [
        {
          "output_type": "execute_result",
          "data": {
            "text/plain": [
              "(2498, 104)"
            ]
          },
          "metadata": {
            "tags": []
          },
          "execution_count": 96
        }
      ]
    },
    {
      "cell_type": "code",
      "metadata": {
        "id": "Id-14E14h6gw",
        "colab": {
          "base_uri": "https://localhost:8080/",
          "height": 34
        },
        "outputId": "d49cee36-df64-4caf-f277-c33b8b9c3c22"
      },
      "source": [
        "test_data.shape"
      ],
      "execution_count": null,
      "outputs": [
        {
          "output_type": "execute_result",
          "data": {
            "text/plain": [
              "(427, 104)"
            ]
          },
          "metadata": {
            "tags": []
          },
          "execution_count": 97
        }
      ]
    },
    {
      "cell_type": "markdown",
      "metadata": {
        "id": "k1Q0s0caiDm8"
      },
      "source": [
        "*Now* we have 79 Vairabels instead of 38! More data will hopefully help us make better estimations for prices."
      ]
    },
    {
      "cell_type": "markdown",
      "metadata": {
        "id": "TVtCMFSfL_lN"
      },
      "source": [
        "## Step three: K-fold + Normalization\n"
      ]
    },
    {
      "cell_type": "code",
      "metadata": {
        "id": "LgMOBx_1P5Hz"
      },
      "source": [
        "all_scores = []\n",
        "all_mae_histories = []\n",
        "\n",
        "# hyper parameters\n",
        "k = 4\n",
        "num_val_samples = len(train_data) // k\n",
        "num_epochs = 7\n",
        "epsilon = 0.0001\n",
        "\n",
        "#shuffel the order of the elements\n",
        "np.random.shuffle(train_data)\n",
        "\n",
        "# setting up the loop for k-fold\n",
        "for i in range(k):\n",
        "    print('processing fold #', i)\n",
        "    \n",
        "    # reserving validation dataset\n",
        "    val_data = train_data[i * num_val_samples: (i + 1) * num_val_samples]\n",
        "    val_targets = train_targets[i * num_val_samples: (i + 1) * num_val_samples]\n",
        "    \n",
        "    # reserving training dataset\n",
        "    partial_train_data = np.concatenate(\n",
        "        [train_data[:i * num_val_samples],\n",
        "         train_data[(i + 1) * num_val_samples:]],\n",
        "        axis=0)\n",
        "    partial_train_targets = np.concatenate(\n",
        "        [train_targets[:i * num_val_samples],\n",
        "         train_targets[(i + 1) * num_val_samples:]],       axis=0)\n",
        "    \n",
        "    #normalization\n",
        "    train_mean = np.nanmean(partial_train_data, axis=0)\n",
        "    train_std = np.nanstd(partial_train_data, axis=0)\n",
        "    partial_train_data -= train_mean\n",
        "    partial_train_data /= train_std+ epsilon\n",
        "    \n",
        "    val_mean = np.nanmean(val_data, axis=0)\n",
        "    val_std = np.nanstd(val_data,axis=0)\n",
        "    val_data -= val_mean\n",
        "    val_data /= val_std + epsilon\n",
        "    \n",
        "    \n",
        "    # Build the Keras model (already compiled)\n",
        "    model = make_model()\n",
        "    # Train the model (in silent mode, verbose=0)\n",
        "    history = model.fit(partial_train_data, partial_train_targets,\n",
        "                        validation_data=(val_data, val_targets),\n",
        "                        epochs=num_epochs, batch_size=1, verbose=1)\n",
        "    # store scores\n",
        "    mae_history = history.history['val_mae']\n",
        "    all_mae_histories.append(mae_history)\n",
        "    \n",
        "\n",
        "average_mae_history = [\n",
        "    np.mean([x[i] for x in all_mae_histories]) for i in range(num_epochs)]"
      ],
      "execution_count": null,
      "outputs": []
    },
    {
      "cell_type": "markdown",
      "metadata": {
        "id": "KdatVEaZiW-1"
      },
      "source": [
        "## Step four: Train & adjust model \n",
        "\n"
      ]
    },
    {
      "cell_type": "markdown",
      "metadata": {
        "id": "rc18Gdkr8OQA"
      },
      "source": [
        "### Training results"
      ]
    },
    {
      "cell_type": "markdown",
      "metadata": {
        "id": "UFRrDcaCj8mu"
      },
      "source": [
        "#### Frist time to run the model:\n",
        "* number of epochs = 10\n",
        "* k for k-fold = 4\n",
        "* Neural network made of 3 layers (frist two has size 64 and relue activation function, last one has size 1)\n",
        "* optimizer: rmsprop"
      ]
    },
    {
      "cell_type": "code",
      "metadata": {
        "id": "jf2l93ALC5Kl",
        "colab": {
          "base_uri": "https://localhost:8080/",
          "height": 199
        },
        "outputId": "2af39e95-1024-464a-f4e2-ee864906b3d7"
      },
      "source": [
        "average_mae_history"
      ],
      "execution_count": null,
      "outputs": [
        {
          "output_type": "execute_result",
          "data": {
            "text/plain": [
              "[180740.06,\n",
              " 180616.48,\n",
              " 180413.48,\n",
              " 180134.19,\n",
              " 179776.44,\n",
              " 179341.78,\n",
              " 178829.9,\n",
              " 178239.36,\n",
              " 177572.56,\n",
              " 176831.77]"
            ]
          },
          "metadata": {
            "tags": []
          },
          "execution_count": 28
        }
      ]
    },
    {
      "cell_type": "code",
      "metadata": {
        "id": "5uTEPO9weR8H",
        "colab": {
          "base_uri": "https://localhost:8080/",
          "height": 279
        },
        "outputId": "1a878697-8f7d-43a3-87b5-1e2da724e2b2"
      },
      "source": [
        "import matplotlib.pyplot as plt\n",
        "\n",
        "plt.plot(range(1, len(average_mae_history) + 1), average_mae_history)\n",
        "plt.xlabel('Epochs')\n",
        "plt.ylabel('Validation MAE')\n",
        "plt.show()"
      ],
      "execution_count": null,
      "outputs": [
        {
          "output_type": "display_data",
          "data": {
            "image/png": "[encoded data removed]",
            "text/plain": [
              "<Figure size 432x288 with 1 Axes>"
            ]
          },
          "metadata": {
            "tags": []
          }
        }
      ]
    },
    {
      "cell_type": "markdown",
      "metadata": {
        "id": "cYpcUcm0lHgG"
      },
      "source": [
        "#### Second time to run model:\n",
        "After adding encoded categorical variables to the dataset"
      ]
    },
    {
      "cell_type": "code",
      "metadata": {
        "id": "aeQwgHX4n0Cx",
        "colab": {
          "base_uri": "https://localhost:8080/",
          "height": 199
        },
        "outputId": "fc55a9c2-b0b2-4889-fc86-0c6a46f6d01a"
      },
      "source": [
        "average_mae_history"
      ],
      "execution_count": null,
      "outputs": [
        {
          "output_type": "execute_result",
          "data": {
            "text/plain": [
              "[180739.16,\n",
              " 180611.06,\n",
              " 180400.83,\n",
              " 180110.56,\n",
              " 179740.1,\n",
              " 179288.31,\n",
              " 178757.42,\n",
              " 178144.34,\n",
              " 177454.0,\n",
              " 176683.17]"
            ]
          },
          "metadata": {
            "tags": []
          },
          "execution_count": 54
        }
      ]
    },
    {
      "cell_type": "code",
      "metadata": {
        "id": "ibPLdnQfn6-K",
        "colab": {
          "base_uri": "https://localhost:8080/",
          "height": 279
        },
        "outputId": "33000027-07a8-4948-9443-92a7f082a528"
      },
      "source": [
        "import matplotlib.pyplot as plt\n",
        "\n",
        "plt.plot(range(1, len(average_mae_history) + 1), average_mae_history)\n",
        "plt.xlabel('Epochs')\n",
        "plt.ylabel('Validation MAE')\n",
        "plt.show()"
      ],
      "execution_count": null,
      "outputs": [
        {
          "output_type": "display_data",
          "data": {
            "image/png": "[encoded data removed]",
            "text/plain": [
              "<Figure size 432x288 with 1 Axes>"
            ]
          },
          "metadata": {
            "tags": []
          }
        }
      ]
    },
    {
      "cell_type": "markdown",
      "metadata": {
        "id": "CuaCtro07wYu"
      },
      "source": [
        "### a. number of layers and sizes\n"
      ]
    },
    {
      "cell_type": "markdown",
      "metadata": {
        "id": "wpKxzmUD4j-V"
      },
      "source": [
        "added one layer (4 layers total)"
      ]
    },
    {
      "cell_type": "code",
      "metadata": {
        "id": "FQJ9i7a5vZxE",
        "colab": {
          "base_uri": "https://localhost:8080/",
          "height": 199
        },
        "outputId": "42f9b910-ad3d-4242-8894-402b0873997c"
      },
      "source": [
        "average_mae_history"
      ],
      "execution_count": null,
      "outputs": [
        {
          "output_type": "execute_result",
          "data": {
            "text/plain": [
              "[179484.69,\n",
              " 171534.48,\n",
              " 151998.55,\n",
              " 125662.234,\n",
              " 118494.555,\n",
              " 118840.836,\n",
              " 119013.13,\n",
              " 119007.484,\n",
              " 119098.62,\n",
              " 119083.92]"
            ]
          },
          "metadata": {
            "tags": []
          },
          "execution_count": 66
        }
      ]
    },
    {
      "cell_type": "markdown",
      "metadata": {
        "id": "8V99RynzDp7B"
      },
      "source": [
        "Changed layer thickenss to input size, second layer to half, third layer to one fourth"
      ]
    },
    {
      "cell_type": "code",
      "metadata": {
        "id": "_Hesl-pMiEeJ",
        "colab": {
          "base_uri": "https://localhost:8080/",
          "height": 279
        },
        "outputId": "d15c55f4-d12c-4942-a61e-08b20451246f"
      },
      "source": [
        "import matplotlib.pyplot as plt\n",
        "\n",
        "plt.plot(range(1, len(average_mae_history) + 1), average_mae_history)\n",
        "plt.xlabel('Epochs')\n",
        "plt.ylabel('Validation MAE')\n",
        "plt.show()"
      ],
      "execution_count": null,
      "outputs": [
        {
          "output_type": "display_data",
          "data": {
            "image/png": "[encoded data removed]",
            "text/plain": [
              "<Figure size 432x288 with 1 Axes>"
            ]
          },
          "metadata": {
            "tags": []
          }
        }
      ]
    },
    {
      "cell_type": "markdown",
      "metadata": {
        "id": "TmA7le507yL-"
      },
      "source": [
        "### b. use of optimizers\n"
      ]
    },
    {
      "cell_type": "markdown",
      "metadata": {
        "id": "Jy_oCk6PpulH"
      },
      "source": [
        "* Change optimizer to Adam and 5 layers\n",
        "* shuffeling the order of houses\n",
        "* dropping vraibles that are not being used"
      ]
    },
    {
      "cell_type": "code",
      "metadata": {
        "id": "b1FFlcMICn1h",
        "colab": {
          "base_uri": "https://localhost:8080/",
          "height": 278
        },
        "outputId": "524f1fff-1451-4692-cda4-aabf0f2c4894"
      },
      "source": [
        "import matplotlib.pyplot as plt\n",
        "\n",
        "plt.plot(range(1, len(average_mae_history) + 1), average_mae_history)\n",
        "plt.xlabel('Epochs')\n",
        "plt.ylabel('Validation MAE')\n",
        "plt.show()"
      ],
      "execution_count": null,
      "outputs": [
        {
          "output_type": "display_data",
          "data": {
            "image/png": "[encoded data removed]",
            "text/plain": [
              "<Figure size 432x288 with 1 Axes>"
            ]
          },
          "metadata": {
            "tags": []
          }
        }
      ]
    },
    {
      "cell_type": "markdown",
      "metadata": {
        "id": "Pe1Wrd7niuZx"
      },
      "source": [
        "## Step five: Test dataset results"
      ]
    },
    {
      "cell_type": "markdown",
      "metadata": {
        "id": "EsIi55doca_R"
      },
      "source": [
        "Final test"
      ]
    },
    {
      "cell_type": "code",
      "metadata": {
        "id": "9ECtc6qOv8yK",
        "colab": {
          "base_uri": "https://localhost:8080/",
          "height": 1000
        },
        "outputId": "19025254-4dfd-4636-dee6-1b5c22fcad2f"
      },
      "source": [
        "all_scores = []\n",
        "all_mae_histories = []\n",
        "\n",
        "# hyper parameters\n",
        "k = 4\n",
        "num_val_samples = len(test_data) // k\n",
        "num_epochs = 20\n",
        "epsilon = 0.0001\n",
        "\n",
        "#shuffel the order of the elements\n",
        "np.random.shuffle(train_data)\n",
        "\n",
        "# setting up the loop for k-fold\n",
        "for i in range(k):\n",
        "    print('processing fold #', i)\n",
        "    \n",
        "    # reserving validation dataset\n",
        "    val_data = test_data[i * num_val_samples: (i + 1) * num_val_samples]\n",
        "    val_targets = test_targets[i * num_val_samples: (i + 1) * num_val_samples]\n",
        "    \n",
        "    # reserving training dataset\n",
        "    partial_train_data = np.concatenate(\n",
        "        [test_data[:i * num_val_samples],\n",
        "         test_data[(i + 1) * num_val_samples:]],\n",
        "        axis=0)\n",
        "    partial_train_targets = np.concatenate(\n",
        "        [test_targets[:i * num_val_samples],\n",
        "         test_targets[(i + 1) * num_val_samples:]],       axis=0)\n",
        "    \n",
        "    #normalization\n",
        "    train_mean = np.nanmean(partial_train_data, axis=0)\n",
        "    train_std = np.nanstd(partial_train_data, axis=0)\n",
        "    partial_train_data -= train_mean\n",
        "    partial_train_data /= train_std+ epsilon\n",
        "    \n",
        "    val_mean = np.nanmean(val_data, axis=0)\n",
        "    val_std = np.nanstd(val_data,axis=0)\n",
        "    val_data -= val_mean\n",
        "    val_data /= val_std + epsilon\n",
        "    \n",
        "    \n",
        "    # Build the Keras model (already compiled)\n",
        "    model = make_model()\n",
        "    # Train the model (in silent mode, verbose=0)\n",
        "    history = model.fit(partial_train_data, partial_train_targets,\n",
        "                        validation_data=(val_data, val_targets),\n",
        "                        epochs=num_epochs, batch_size=1, verbose=1)\n",
        "    # store scores\n",
        "    mae_history = history.history['val_mae']\n",
        "    all_mae_histories.append(mae_history)\n",
        "    \n",
        "\n",
        "average_mae_history = [\n",
        "    np.mean([x[i] for x in all_mae_histories]) for i in range(num_epochs)]"
      ],
      "execution_count": null,
      "outputs": [
        {
          "output_type": "stream",
          "text": [
            "processing fold # 0\n",
            "Train on 321 samples, validate on 106 samples\n",
            "Epoch 1/20\n",
            "321/321 [==============================] - 2s 6ms/sample - loss: 43238370727.8754 - mae: 187654.5469 - val_loss: 39159776209.6604 - val_mae: 183614.0156\n",
            "Epoch 2/20\n",
            "321/321 [==============================] - 1s 4ms/sample - loss: 42774276676.1869 - mae: 186448.5781 - val_loss: 38021776125.0566 - val_mae: 180488.6250\n",
            "Epoch 3/20\n",
            "321/321 [==============================] - 1s 4ms/sample - loss: 40309714629.3832 - mae: 179522.4844 - val_loss: 34014554171.3184 - val_mae: 169061.0000\n",
            "Epoch 4/20\n",
            "321/321 [==============================] - 1s 4ms/sample - loss: 34129292066.6916 - mae: 160929.8438 - val_loss: 26000365203.3208 - val_mae: 143890.8438\n",
            "Epoch 5/20\n",
            "321/321 [==============================] - 1s 4ms/sample - loss: 24584456089.9805 - mae: 129023.8984 - val_loss: 16117888701.2075 - val_mae: 105065.0859\n",
            "Epoch 6/20\n",
            "321/321 [==============================] - 1s 4ms/sample - loss: 15410309074.9668 - mae: 90723.6484 - val_loss: 8950702087.3777 - val_mae: 69944.1406\n",
            "Epoch 7/20\n",
            "321/321 [==============================] - 1s 4ms/sample - loss: 10249165083.3331 - mae: 67434.5547 - val_loss: 6234291433.2642 - val_mae: 59520.4531\n",
            "Epoch 8/20\n",
            "321/321 [==============================] - 1s 4ms/sample - loss: 8541906018.9984 - mae: 63881.3086 - val_loss: 5564134035.2831 - val_mae: 58923.7930\n",
            "Epoch 9/20\n",
            "321/321 [==============================] - 1s 4ms/sample - loss: 8128840255.8597 - mae: 65188.5859 - val_loss: 5450347358.3591 - val_mae: 59698.4531\n",
            "Epoch 10/20\n",
            "321/321 [==============================] - 1s 4ms/sample - loss: 8061834311.2068 - mae: 66393.4219 - val_loss: 5447044987.5094 - val_mae: 60202.9727\n",
            "Epoch 11/20\n",
            "321/321 [==============================] - 1s 4ms/sample - loss: 8049768609.3179 - mae: 66574.9297 - val_loss: 5451026459.8774 - val_mae: 60374.9844\n",
            "Epoch 12/20\n",
            "321/321 [==============================] - 1s 4ms/sample - loss: 8041522798.9777 - mae: 66653.6797 - val_loss: 5452425794.4811 - val_mae: 60417.9297\n",
            "Epoch 13/20\n",
            "321/321 [==============================] - 1s 4ms/sample - loss: 8041117946.8110 - mae: 66997.6406 - val_loss: 5458063881.4858 - val_mae: 60556.9180\n",
            "Epoch 14/20\n",
            "321/321 [==============================] - 1s 4ms/sample - loss: 8036601214.9840 - mae: 66620.6875 - val_loss: 5465868119.4210 - val_mae: 60703.8672\n",
            "Epoch 15/20\n",
            "321/321 [==============================] - 1s 4ms/sample - loss: 8044648414.0552 - mae: 67187.6719 - val_loss: 5453741150.4717 - val_mae: 60454.3789\n",
            "Epoch 16/20\n",
            "321/321 [==============================] - 1s 4ms/sample - loss: 8042053010.4087 - mae: 66789.1562 - val_loss: 5454864002.9811 - val_mae: 60483.2656\n",
            "Epoch 17/20\n",
            "321/321 [==============================] - 1s 4ms/sample - loss: 8033511430.8613 - mae: 66805.2422 - val_loss: 5466911422.2795 - val_mae: 60721.1445\n",
            "Epoch 18/20\n",
            "321/321 [==============================] - 1s 4ms/sample - loss: 8037397864.9704 - mae: 66619.4609 - val_loss: 5477914060.0381 - val_mae: 60882.5273\n",
            "Epoch 19/20\n",
            "321/321 [==============================] - 1s 4ms/sample - loss: 8040662250.0361 - mae: 67003.3281 - val_loss: 5470287914.8302 - val_mae: 60774.3828\n",
            "Epoch 20/20\n",
            "321/321 [==============================] - 1s 4ms/sample - loss: 8041304248.0546 - mae: 66890.6328 - val_loss: 5472960628.9648 - val_mae: 60813.9922\n",
            "processing fold # 1\n",
            "Train on 321 samples, validate on 106 samples\n",
            "Epoch 1/20\n",
            "321/321 [==============================] - 2s 6ms/sample - loss: 42109936877.4579 - mae: 187225.8125 - val_loss: 42608423071.3962 - val_mae: 185000.1094\n",
            "Epoch 2/20\n",
            "321/321 [==============================] - 1s 4ms/sample - loss: 41821576531.2399 - mae: 186426.7344 - val_loss: 41894264018.1132 - val_mae: 183059.9219\n",
            "Epoch 3/20\n",
            "321/321 [==============================] - 1s 4ms/sample - loss: 40175376439.7757 - mae: 181945.1250 - val_loss: 39091107047.8491 - val_mae: 175236.5781\n",
            "Epoch 4/20\n",
            "321/321 [==============================] - 1s 4ms/sample - loss: 35768338087.2531 - mae: 169432.8906 - val_loss: 33171124524.6792 - val_mae: 157441.6094\n",
            "Epoch 5/20\n",
            "321/321 [==============================] - 1s 4ms/sample - loss: 28363048507.0016 - mae: 145599.1406 - val_loss: 24703042873.3328 - val_mae: 127793.7422\n",
            "Epoch 6/20\n",
            "321/321 [==============================] - 1s 4ms/sample - loss: 19763751872.7379 - mae: 112601.9297 - val_loss: 16809101517.0460 - val_mae: 95839.1250\n",
            "Epoch 7/20\n",
            "321/321 [==============================] - 1s 4ms/sample - loss: 12731328394.2934 - mae: 82132.3203 - val_loss: 11317078577.6127 - val_mae: 69580.3672\n",
            "Epoch 8/20\n",
            "321/321 [==============================] - 1s 4ms/sample - loss: 8903419649.5343 - mae: 64910.8477 - val_loss: 9155401740.0253 - val_mae: 63554.4258\n",
            "Epoch 9/20\n",
            "321/321 [==============================] - 1s 4ms/sample - loss: 7533016742.9680 - mae: 62278.8359 - val_loss: 8536181765.7417 - val_mae: 64495.5625\n",
            "Epoch 10/20\n",
            "321/321 [==============================] - 1s 4ms/sample - loss: 7173157641.9673 - mae: 63265.9805 - val_loss: 8404493369.9404 - val_mae: 65726.1719\n",
            "Epoch 11/20\n",
            "321/321 [==============================] - 1s 4ms/sample - loss: 7097288470.3059 - mae: 63881.4375 - val_loss: 8385257702.8302 - val_mae: 66332.4062\n",
            "Epoch 12/20\n",
            "321/321 [==============================] - 1s 4ms/sample - loss: 7074599594.2197 - mae: 64357.4688 - val_loss: 8383676619.9511 - val_mae: 66494.1250\n",
            "Epoch 13/20\n",
            "321/321 [==============================] - 1s 4ms/sample - loss: 7068188494.5931 - mae: 64193.0547 - val_loss: 8385238095.6792 - val_mae: 66930.4141\n",
            "Epoch 14/20\n",
            "321/321 [==============================] - 1s 4ms/sample - loss: 7068615068.0806 - mae: 64597.2031 - val_loss: 8386245536.3962 - val_mae: 67004.3281\n",
            "Epoch 15/20\n",
            "321/321 [==============================] - 1s 4ms/sample - loss: 7066892173.3357 - mae: 64968.3242 - val_loss: 8384097974.3721 - val_mae: 66815.8203\n",
            "Epoch 16/20\n",
            "321/321 [==============================] - 1s 4ms/sample - loss: 7071280675.0685 - mae: 64525.0898 - val_loss: 8385513716.0943 - val_mae: 66952.2578\n",
            "Epoch 17/20\n",
            "321/321 [==============================] - 1s 4ms/sample - loss: 7067613153.2782 - mae: 64789.4375 - val_loss: 8385655879.1816 - val_mae: 66963.0078\n",
            "Epoch 18/20\n",
            "321/321 [==============================] - 1s 4ms/sample - loss: 7067683370.3729 - mae: 64429.4453 - val_loss: 8388769111.0425 - val_mae: 67145.8438\n",
            "Epoch 19/20\n",
            "321/321 [==============================] - 1s 4ms/sample - loss: 7067425819.8257 - mae: 64631.0664 - val_loss: 8386207468.0731 - val_mae: 67001.8516\n",
            "Epoch 20/20\n",
            "321/321 [==============================] - 1s 4ms/sample - loss: 7066440036.9248 - mae: 64633.8125 - val_loss: 8386972277.0943 - val_mae: 67049.8516\n",
            "processing fold # 2\n",
            "Train on 321 samples, validate on 106 samples\n",
            "Epoch 1/20\n",
            "321/321 [==============================] - 2s 6ms/sample - loss: 41402243636.4361 - mae: 185106.7812 - val_loss: 44733829318.0377 - val_mae: 191378.8281\n",
            "Epoch 2/20\n",
            "321/321 [==============================] - 1s 4ms/sample - loss: 41038613125.5078 - mae: 184115.5000 - val_loss: 43803130063.6981 - val_mae: 188931.6406\n",
            "Epoch 3/20\n",
            "321/321 [==============================] - 1s 4ms/sample - loss: 39011423972.1495 - mae: 178553.3906 - val_loss: 40237091868.9811 - val_mae: 179245.9844\n",
            "Epoch 4/20\n",
            "321/321 [==============================] - 1s 4ms/sample - loss: 33872890322.9420 - mae: 163435.6562 - val_loss: 33070441608.4528 - val_mae: 157994.9844\n",
            "Epoch 5/20\n",
            "321/321 [==============================] - 1s 4ms/sample - loss: 25531513136.3715 - mae: 136012.5781 - val_loss: 23391786837.6604 - val_mae: 123627.8047\n",
            "Epoch 6/20\n",
            "321/321 [==============================] - 1s 4ms/sample - loss: 16720929707.2089 - mae: 99737.3594 - val_loss: 15123799460.5767 - val_mae: 86620.6406\n",
            "Epoch 7/20\n",
            "321/321 [==============================] - 1s 4ms/sample - loss: 10715088909.6899 - mae: 72015.4844 - val_loss: 10504199792.3373 - val_mae: 69881.1953\n",
            "Epoch 8/20\n",
            "321/321 [==============================] - 1s 4ms/sample - loss: 8107641432.4317 - mae: 61416.9727 - val_loss: 8859423631.3034 - val_mae: 67909.2500\n",
            "Epoch 9/20\n",
            "321/321 [==============================] - 1s 4ms/sample - loss: 7362439704.7383 - mae: 61274.7773 - val_loss: 8358642811.4054 - val_mae: 68653.6016\n",
            "Epoch 10/20\n",
            "321/321 [==============================] - 1s 4ms/sample - loss: 7203120578.7318 - mae: 61987.7461 - val_loss: 8243020426.3467 - val_mae: 69251.2578\n",
            "Epoch 11/20\n",
            "321/321 [==============================] - 1s 4ms/sample - loss: 7161221663.7921 - mae: 62340.3164 - val_loss: 8171417244.3538 - val_mae: 69888.3750\n",
            "Epoch 12/20\n",
            "321/321 [==============================] - 1s 4ms/sample - loss: 7153674282.6796 - mae: 62829.2656 - val_loss: 8157548731.0472 - val_mae: 70062.8203\n",
            "Epoch 13/20\n",
            "321/321 [==============================] - 1s 4ms/sample - loss: 7147894863.2017 - mae: 62775.8867 - val_loss: 8140576095.2075 - val_mae: 70313.9453\n",
            "Epoch 14/20\n",
            "321/321 [==============================] - 1s 4ms/sample - loss: 7148350779.5798 - mae: 63184.2617 - val_loss: 8150475868.0377 - val_mae: 70161.2109\n",
            "Epoch 15/20\n",
            "321/321 [==============================] - 1s 4ms/sample - loss: 7152603729.5243 - mae: 62965.4453 - val_loss: 8150599488.8396 - val_mae: 70159.4141\n",
            "Epoch 16/20\n",
            "321/321 [==============================] - 1s 4ms/sample - loss: 7150235047.7015 - mae: 63319.4375 - val_loss: 8145086628.0189 - val_mae: 70241.8672\n",
            "Epoch 17/20\n",
            "321/321 [==============================] - 1s 4ms/sample - loss: 7151911380.8041 - mae: 63063.5820 - val_loss: 8162042103.8302 - val_mae: 70003.8359\n",
            "Epoch 18/20\n",
            "321/321 [==============================] - 1s 4ms/sample - loss: 7155013203.4023 - mae: 62996.3008 - val_loss: 8149313357.5094 - val_mae: 70178.1953\n",
            "Epoch 19/20\n",
            "321/321 [==============================] - 1s 4ms/sample - loss: 7147739939.4839 - mae: 62941.3906 - val_loss: 8155956962.7736 - val_mae: 70084.3281\n",
            "Epoch 20/20\n",
            "321/321 [==============================] - 1s 4ms/sample - loss: 7161134849.5606 - mae: 63223.6758 - val_loss: 8140852782.6604 - val_mae: 70309.4141\n",
            "processing fold # 3\n",
            "Train on 321 samples, validate on 106 samples\n",
            "Epoch 1/20\n",
            "321/321 [==============================] - 2s 6ms/sample - loss: 42273015899.3146 - mae: 186690.2812 - val_loss: 42159974699.4717 - val_mae: 186747.7812\n",
            "Epoch 2/20\n",
            "321/321 [==============================] - 1s 4ms/sample - loss: 42139465240.7726 - mae: 186328.7188 - val_loss: 41824554383.6981 - val_mae: 185847.6562\n",
            "Epoch 3/20\n",
            "321/321 [==============================] - 1s 4ms/sample - loss: 41367249984.8723 - mae: 184214.9844 - val_loss: 40460612534.3396 - val_mae: 182141.1562\n",
            "Epoch 4/20\n",
            "321/321 [==============================] - 1s 4ms/sample - loss: 39191109118.8598 - mae: 178213.1250 - val_loss: 37380470142.1887 - val_mae: 173479.7188\n",
            "Epoch 5/20\n",
            "321/321 [==============================] - 1s 4ms/sample - loss: 35096841279.7083 - mae: 166379.6562 - val_loss: 32267041106.7170 - val_mae: 158056.4219\n",
            "Epoch 6/20\n",
            "321/321 [==============================] - 1s 4ms/sample - loss: 29159491879.9003 - mae: 147485.5781 - val_loss: 25649844153.8113 - val_mae: 135817.7500\n",
            "Epoch 7/20\n",
            "321/321 [==============================] - 1s 4ms/sample - loss: 22294559634.3256 - mae: 122507.7422 - val_loss: 18799356938.3552 - val_mae: 108288.5547\n",
            "Epoch 8/20\n",
            "321/321 [==============================] - 1s 4ms/sample - loss: 16069772266.3229 - mae: 95394.0156 - val_loss: 13363075588.3373 - val_mae: 82765.1484\n",
            "Epoch 9/20\n",
            "321/321 [==============================] - 1s 4ms/sample - loss: 11646656741.9622 - mae: 75058.1016 - val_loss: 9948157545.3987 - val_mae: 65552.0547\n",
            "Epoch 10/20\n",
            "321/321 [==============================] - 1s 4ms/sample - loss: 9134578712.9277 - mae: 65537.7891 - val_loss: 8244542287.9410 - val_mae: 58953.6172\n",
            "Epoch 11/20\n",
            "321/321 [==============================] - 1s 4ms/sample - loss: 8031298671.2599 - mae: 64536.8828 - val_loss: 7620139942.0746 - val_mae: 58214.1211\n",
            "Epoch 12/20\n",
            "321/321 [==============================] - 1s 4ms/sample - loss: 7639586625.7045 - mae: 64710.3320 - val_loss: 7397818551.0189 - val_mae: 58868.4805\n",
            "Epoch 13/20\n",
            "321/321 [==============================] - 1s 4ms/sample - loss: 7496468976.8835 - mae: 65391.7930 - val_loss: 7318154149.5200 - val_mae: 59573.3594\n",
            "Epoch 14/20\n",
            "321/321 [==============================] - 1s 4ms/sample - loss: 7450420827.9418 - mae: 65918.4453 - val_loss: 7297796138.1486 - val_mae: 60028.6992\n",
            "Epoch 15/20\n",
            "321/321 [==============================] - 1s 4ms/sample - loss: 7438430109.7475 - mae: 66178.0703 - val_loss: 7289286434.6764 - val_mae: 60346.9922\n",
            "Epoch 16/20\n",
            "321/321 [==============================] - 1s 4ms/sample - loss: 7435326023.7703 - mae: 66355.1250 - val_loss: 7289023796.7795 - val_mae: 60360.7812\n",
            "Epoch 17/20\n",
            "321/321 [==============================] - 1s 4ms/sample - loss: 7430501627.8466 - mae: 66417.0469 - val_loss: 7286431412.8396 - val_mae: 60563.7266\n",
            "Epoch 18/20\n",
            "321/321 [==============================] - 1s 4ms/sample - loss: 7427908692.5467 - mae: 66576.8047 - val_loss: 7286407166.8962 - val_mae: 60566.4297\n",
            "Epoch 19/20\n",
            "321/321 [==============================] - 1s 4ms/sample - loss: 7428693234.7290 - mae: 66597.3828 - val_loss: 7286115240.4045 - val_mae: 60602.2344\n",
            "Epoch 20/20\n",
            "321/321 [==============================] - 1s 4ms/sample - loss: 7432781301.2833 - mae: 66317.4453 - val_loss: 7285538554.9169 - val_mae: 60698.8789\n"
          ],
          "name": "stdout"
        }
      ]
    },
    {
      "cell_type": "code",
      "metadata": {
        "id": "bicHc-p2b_vU",
        "colab": {
          "base_uri": "https://localhost:8080/",
          "height": 278
        },
        "outputId": "0b949017-9c4e-4dea-9733-42f322628eec"
      },
      "source": [
        "import matplotlib.pyplot as plt\n",
        "\n",
        "plt.plot(range(1, len(average_mae_history) + 1), average_mae_history)\n",
        "plt.xlabel('Epochs')\n",
        "plt.ylabel('Validation MAE')\n",
        "plt.show()"
      ],
      "execution_count": null,
      "outputs": [
        {
          "output_type": "display_data",
          "data": {
            "image/png": "[encoded data removed]",
            "text/plain": [
              "<Figure size 432x288 with 1 Axes>"
            ]
          },
          "metadata": {
            "tags": []
          }
        }
      ]
    }
  ]
}