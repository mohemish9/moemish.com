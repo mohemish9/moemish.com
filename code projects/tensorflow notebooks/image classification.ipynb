{
  "nbformat": 4,
  "nbformat_minor": 0,
  "metadata": {
    "colab": {
      "name": "CS152Sp19Assign4 Mohamed E",
      "provenance": [],
      "toc_visible": true
    },
    "kernelspec": {
      "name": "python3",
      "display_name": "Python 3"
    },
    "accelerator": "GPU"
  },
  "cells": [
    {
      "cell_type": "markdown",
      "metadata": {
        "id": "W1BdwhY_drw9"
      },
      "source": [
        "# CS 152—Assignment 4\n",
        "Mohamed Emish\n",
        "\n",
        "Professor Neil Rhodes\n"
      ]
    },
    {
      "cell_type": "markdown",
      "metadata": {
        "id": "zAZZItPifF1r"
      },
      "source": [
        "### Import libraries and initialize notebook"
      ]
    },
    {
      "cell_type": "code",
      "metadata": {
        "id": "Y06Zc_kvfVw1",
        "colab": {
          "base_uri": "https://localhost:8080/",
          "height": 66
        },
        "outputId": "e27909ba-65ec-4235-e977-e7e9fd6a40af"
      },
      "source": [
        "# Install TensorFlow\n",
        "try:\n",
        "  # %tensorflow_version only exists in Colab.\n",
        "  %tensorflow_version 2.x\n",
        "except Exception:\n",
        "  pass\n",
        "!pip install gast==0.2.2 # downgrade to resolve a problem with tf and gast 0.3\n",
        "import tensorflow as tf\n",
        "print(tf.__version__)\n",
        "print(tf.keras.__version__)"
      ],
      "execution_count": null,
      "outputs": [
        {
          "output_type": "stream",
          "text": [
            "Requirement already satisfied: gast==0.2.2 in /tensorflow-2.0.0/python3.6 (0.2.2)\n",
            "2.0.0\n",
            "2.2.4-tf\n"
          ],
          "name": "stdout"
        }
      ]
    },
    {
      "cell_type": "code",
      "metadata": {
        "id": "Rnr6zbhjwVz5"
      },
      "source": [
        "try: \n",
        "  import wget,  tarfile, matplotlib\n",
        "except:\n",
        "  !pip3 install wget\n",
        "  !pip3 install tarfile\n",
        "  !pip3 install matplotlib\n",
        "  import wget, tarfile, matplotlib\n"
      ],
      "execution_count": null,
      "outputs": []
    },
    {
      "cell_type": "markdown",
      "metadata": {
        "id": "XZh_V_CZd38b"
      },
      "source": [
        "### Prepare the Data"
      ]
    },
    {
      "cell_type": "markdown",
      "metadata": {
        "id": "Rs2R7izMvmok"
      },
      "source": [
        "Downlaod files and unzip them"
      ]
    },
    {
      "cell_type": "code",
      "metadata": {
        "id": "tWn0k-O-dLUf"
      },
      "source": [
        "imagenette_160 = wget.download('https://s3.amazonaws.com/fast-ai-imageclas/imagenette-160.tgz')"
      ],
      "execution_count": null,
      "outputs": []
    },
    {
      "cell_type": "code",
      "metadata": {
        "id": "EoFlHnv-vl_i"
      },
      "source": [
        "imagenette_160 = tarfile.open(imagenette_160, \"r:gz\")\n",
        "imagenette_160.extractall()\n",
        "imagenette_160.close()"
      ],
      "execution_count": null,
      "outputs": []
    },
    {
      "cell_type": "markdown",
      "metadata": {
        "id": "bFWhQe_Q6l1p"
      },
      "source": [
        "Generate augmented data to increase train and validation data points"
      ]
    },
    {
      "cell_type": "code",
      "metadata": {
        "id": "ngKTJxUm6tLc",
        "colab": {
          "base_uri": "https://localhost:8080/",
          "height": 33
        },
        "outputId": "20d003cf-e4ac-43f1-bbc1-01d1a7cf9f72"
      },
      "source": [
        "train_data_generator = tf.keras.preprocessing.image.ImageDataGenerator( rescale=1./255,\n",
        "                                                                        shear_range=0.2,\n",
        "                                                                        zoom_range=0.2)\n",
        "\n",
        "train_generator = train_data_generator.flow_from_directory('imagenette-160/train',\n",
        "                                                            target_size=(160, 160),\n",
        "                                                            batch_size=100)"
      ],
      "execution_count": null,
      "outputs": [
        {
          "output_type": "stream",
          "text": [
            "Found 12894 images belonging to 10 classes.\n"
          ],
          "name": "stdout"
        }
      ]
    },
    {
      "cell_type": "code",
      "metadata": {
        "id": "ObFcQVoK8SnH",
        "colab": {
          "base_uri": "https://localhost:8080/",
          "height": 33
        },
        "outputId": "fb0671e1-ed66-4b07-ee03-af697700f98c"
      },
      "source": [
        "val_data_generator = tf.keras.preprocessing.image.ImageDataGenerator( rescale=1./255)\n",
        "\n",
        "val_generator = val_data_generator.flow_from_directory('imagenette-160/val',\n",
        "                                                            target_size=(160, 160),\n",
        "                                                            batch_size=50)"
      ],
      "execution_count": null,
      "outputs": [
        {
          "output_type": "stream",
          "text": [
            "Found 500 images belonging to 10 classes.\n"
          ],
          "name": "stdout"
        }
      ]
    },
    {
      "cell_type": "markdown",
      "metadata": {
        "id": "cSLVjQTW9BeP"
      },
      "source": [
        "Make sure data was genrated properly"
      ]
    },
    {
      "cell_type": "code",
      "metadata": {
        "id": "3Cmm2Am99A8R",
        "colab": {
          "base_uri": "https://localhost:8080/",
          "height": 268
        },
        "outputId": "935078ec-c92a-46ce-81b1-0d202477b66c"
      },
      "source": [
        "for x in range(3):\n",
        "  matplotlib.pyplot.imshow(train_generator.next()[0][x])\n"
      ],
      "execution_count": null,
      "outputs": [
        {
          "output_type": "display_data",
          "data": {
            "image/png": "[encoded data removed]",
            "text/plain": [
              "<Figure size 432x288 with 1 Axes>"
            ]
          },
          "metadata": {
            "tags": []
          }
        }
      ]
    },
    {
      "cell_type": "markdown",
      "metadata": {
        "id": "riJi6qZmeAJI"
      },
      "source": [
        "### Training model"
      ]
    },
    {
      "cell_type": "markdown",
      "metadata": {
        "id": "dxnXYmVAAZu2"
      },
      "source": [
        "Create the base (Convolutional) portion of a VGG model"
      ]
    },
    {
      "cell_type": "code",
      "metadata": {
        "id": "dAWfrUIzBWk5"
      },
      "source": [
        "base = tf.keras.applications.vgg16.VGG16(include_top=False,\n",
        "                                         weights='imagenet',\n",
        "                                         input_tensor=None,\n",
        "                                         input_shape=(160,160,3),\n",
        "                                         pooling=None,\n",
        "                                         classes=10)\n"
      ],
      "execution_count": null,
      "outputs": []
    },
    {
      "cell_type": "markdown",
      "metadata": {
        "id": "V1pOQkvvAhYO"
      },
      "source": [
        "1.   Create a Sequential model and add base model from above\n",
        "2.   Freeze VGG16 weights\n",
        "3.   Add a Flatten layer and a few Dense layers\n",
        "4.   Choose optimizer and compile model \n"
      ]
    },
    {
      "cell_type": "code",
      "metadata": {
        "id": "QOK35WRbChbO"
      },
      "source": [
        "def make_model():\n",
        "  #1\n",
        "  model = tf.keras.models.Sequential()\n",
        "  model.add(base)\n",
        "  #2\n",
        "  for layer in model.layers:\n",
        "    layer.trainable = False\n",
        "  #3\n",
        "  model.add(tf.keras.layers.Flatten())\n",
        "  model.add(tf.keras.layers.Dense(1000, activation='relu'))\n",
        "  model.add(tf.keras.layers.Dense(1000, activation='relu'))\n",
        "  model.add(tf.keras.layers.Dense(10,activation = 'softmax'))\n",
        "  #4\n",
        "  opt = tf.keras.optimizers.Adam(learning_rate=0.001)\n",
        "  model.compile(optimizer=opt, loss='categorical_crossentropy', metrics=['accuracy'])\n",
        "  return model\n",
        "model = make_model()"
      ],
      "execution_count": null,
      "outputs": []
    },
    {
      "cell_type": "code",
      "metadata": {
        "id": "8quv5e2gv6CJ",
        "colab": {
          "base_uri": "https://localhost:8080/",
          "height": 310
        },
        "outputId": "9a99fda2-f8ff-4e33-96dc-0bdfee4baa04"
      },
      "source": [
        "model.summary()"
      ],
      "execution_count": null,
      "outputs": [
        {
          "output_type": "stream",
          "text": [
            "Model: \"sequential_2\"\n",
            "_________________________________________________________________\n",
            "Layer (type)                 Output Shape              Param #   \n",
            "=================================================================\n",
            "vgg16 (Model)                (None, 5, 5, 512)         14714688  \n",
            "_________________________________________________________________\n",
            "flatten_2 (Flatten)          (None, 12800)             0         \n",
            "_________________________________________________________________\n",
            "dense_6 (Dense)              (None, 1000)              12801000  \n",
            "_________________________________________________________________\n",
            "dense_7 (Dense)              (None, 1000)              1001000   \n",
            "_________________________________________________________________\n",
            "dense_8 (Dense)              (None, 10)                10010     \n",
            "=================================================================\n",
            "Total params: 28,526,698\n",
            "Trainable params: 13,812,010\n",
            "Non-trainable params: 14,714,688\n",
            "_________________________________________________________________\n"
          ],
          "name": "stdout"
        }
      ]
    },
    {
      "cell_type": "markdown",
      "metadata": {
        "id": "hLCU3pNIsyYE"
      },
      "source": [
        "Train"
      ]
    },
    {
      "cell_type": "code",
      "metadata": {
        "id": "Dk7GpRsJsvaz",
        "colab": {
          "base_uri": "https://localhost:8080/",
          "height": 180
        },
        "outputId": "3f6d5aa3-746d-4bbd-f29c-48055b1abc63"
      },
      "source": [
        "history = model.fit_generator(train_generator,\n",
        "                              steps_per_epoch = train_generator.samples/ 100,\n",
        "                              epochs=5,\n",
        "                              validation_data=val_generator,\n",
        "                              validation_steps = val_generator.samples/50,\n",
        "                              verbose=1)"
      ],
      "execution_count": null,
      "outputs": [
        {
          "output_type": "stream",
          "text": [
            "Epoch 1/5\n",
            "129/128 [==============================] - 263s 2s/step - loss: 0.7955 - accuracy: 0.7605 - val_loss: 0.3383 - val_accuracy: 0.9000\n",
            "Epoch 2/5\n",
            "129/128 [==============================] - 262s 2s/step - loss: 0.3688 - accuracy: 0.8751 - val_loss: 0.3789 - val_accuracy: 0.8860\n",
            "Epoch 3/5\n",
            "129/128 [==============================] - 262s 2s/step - loss: 0.2720 - accuracy: 0.9097 - val_loss: 0.2964 - val_accuracy: 0.9060\n",
            "Epoch 4/5\n",
            "129/128 [==============================] - 262s 2s/step - loss: 0.1886 - accuracy: 0.9363 - val_loss: 0.3692 - val_accuracy: 0.8780\n",
            "Epoch 5/5\n",
            "129/128 [==============================] - 262s 2s/step - loss: 0.1552 - accuracy: 0.9470 - val_loss: 0.4254 - val_accuracy: 0.8920\n"
          ],
          "name": "stdout"
        }
      ]
    },
    {
      "cell_type": "markdown",
      "metadata": {
        "id": "0IUCfw2xC1vG"
      },
      "source": [
        "Graph results"
      ]
    },
    {
      "cell_type": "code",
      "metadata": {
        "id": "saAbYS6WDAMr",
        "colab": {
          "base_uri": "https://localhost:8080/",
          "height": 295
        },
        "outputId": "18855d20-5030-48fb-a7eb-be2cda777189"
      },
      "source": [
        "import matplotlib.pyplot as plt\n",
        "\n",
        "plt.plot(range(1,6), history.history['accuracy'],label=\"Training accuracy\")\n",
        "plt.plot(range(1,6), history.history['val_accuracy'], label = \"Validation accuracy\")\n",
        "plt.xlabel(\"epoch\")\n",
        "plt.ylabel(\"accuracy\")\n",
        "plt.title(\"Results\")\n",
        "\n",
        "plt.legend()\n",
        "plt.show()"
      ],
      "execution_count": null,
      "outputs": [
        {
          "output_type": "display_data",
          "data": {
            "image/png": "[encoded data removed]",
            "text/plain": [
              "<Figure size 432x288 with 1 Axes>"
            ]
          },
          "metadata": {
            "tags": []
          }
        }
      ]
    },
    {
      "cell_type": "markdown",
      "metadata": {
        "id": "C9XHy6IKHKyv"
      },
      "source": [
        "Seems like the model starts overfitting after third epoch, so I will run again with only 3 epochs"
      ]
    },
    {
      "cell_type": "code",
      "metadata": {
        "id": "BxnUUp5fJB4w",
        "colab": {
          "base_uri": "https://localhost:8080/",
          "height": 115
        },
        "outputId": "5caf0db5-9cfe-4731-cd76-8bac830c8b45"
      },
      "source": [
        "history = model.fit_generator(train_generator,\n",
        "                              steps_per_epoch = train_generator.samples/ 100,\n",
        "                              epochs=3,\n",
        "                              validation_data=val_generator,\n",
        "                              validation_steps = val_generator.samples/50,\n",
        "                              verbose=1)"
      ],
      "execution_count": null,
      "outputs": [
        {
          "output_type": "stream",
          "text": [
            "Epoch 1/3\n",
            "129/128 [==============================] - 263s 2s/step - loss: 0.9095 - accuracy: 0.7509 - val_loss: 0.4044 - val_accuracy: 0.8800\n",
            "Epoch 2/3\n",
            "129/128 [==============================] - 262s 2s/step - loss: 0.3448 - accuracy: 0.8882 - val_loss: 0.3008 - val_accuracy: 0.9020\n",
            "Epoch 3/3\n",
            "129/128 [==============================] - 262s 2s/step - loss: 0.2604 - accuracy: 0.9128 - val_loss: 0.3590 - val_accuracy: 0.8960\n"
          ],
          "name": "stdout"
        }
      ]
    },
    {
      "cell_type": "markdown",
      "metadata": {
        "id": "lTMTYoV_JH-J"
      },
      "source": [
        "graph the final results"
      ]
    },
    {
      "cell_type": "code",
      "metadata": {
        "id": "hAae7G8hJK4s",
        "colab": {
          "base_uri": "https://localhost:8080/",
          "height": 295
        },
        "outputId": "db378c0c-4ef0-48d3-d143-5afbd06ecd39"
      },
      "source": [
        "import matplotlib.pyplot as plt\n",
        "\n",
        "plt.plot(range(1,4), history.history['accuracy'],label=\"Training accuracy\")\n",
        "plt.plot(range(1,4), history.history['val_accuracy'], label = \"Validation accuracy\")\n",
        "plt.xlabel(\"epoch\")\n",
        "plt.ylabel(\"accuracy\")\n",
        "plt.title(\"Final results\")\n",
        "\n",
        "plt.legend()\n",
        "plt.show()"
      ],
      "execution_count": null,
      "outputs": [
        {
          "output_type": "display_data",
          "data": {
            "image/png": "[encoded data removed]",
            "text/plain": [
              "<Figure size 432x288 with 1 Axes>"
            ]
          },
          "metadata": {
            "tags": []
          }
        }
      ]
    },
    {
      "cell_type": "markdown",
      "metadata": {
        "id": "TELdTEpoJRGw"
      },
      "source": [
        "**Average validation loss between the three epochs is 89.2%**"
      ]
    },
    {
      "cell_type": "markdown",
      "metadata": {
        "id": "doxfLRGKfjmP"
      },
      "source": [
        "### Documentation of used materials"
      ]
    },
    {
      "cell_type": "markdown",
      "metadata": {
        "id": "LyQ4wfwltfp_"
      },
      "source": [
        "https://pypi.org/project/wget/ --> learn how to use wget on python\n",
        "\n",
        "https://stackoverflow.com/questions/30887979/i-want-to-create-a-script-for-unzip-tar-gz-file-via-python --> learn how to unzip tgz file\n",
        "\n",
        "https://keras.io/preprocessing/image/ --> documentation of ImageDataGenerator\n",
        "\n",
        "https://keras.io/preprocessing/image/#flow --> documentation of  flow_from_directory\n",
        "\n",
        "https://keras.io/applications/#vgg16 --> documentation of VGG16\n",
        "\n",
        "https://keras.io/layers/core/#flatten --> documentation of flatten layers\n",
        "\n",
        "https://keras.io/layers/core/#dense --> documentation of Denes layers\n",
        "\n",
        "https://keras.io/models/model/#compile -- > documentation of compile\n",
        "\n",
        "https://keras.io/models/model/#fit_generator --> documentation of fit_generator\n",
        "\n",
        "https://keras.io/getting-started/faq/#how-can-i-freeze-keras-layers --> how to freeze pretrained weights"
      ]
    }
  ]
}